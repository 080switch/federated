{
  "cells": [
    {
      "cell_type": "markdown",
      "metadata": {
        "colab_type": "text",
        "id": "AftvNA5VMemJ"
      },
      "source": [
        "# Federated Learning for Image Classification"
      ]
    },
    {
      "cell_type": "markdown",
      "metadata": {
        "colab_type": "text",
        "id": "Zs2LgZBOMt4M"
      },
      "source": [
        "This tutorial will walk the user through the `tff.learning` interfaces, showing how to simulate federated training and evaluation on a federated MNIST data set. This tutorial introduces some of the concepts on the fly."
      ]
    }
  ],
  "metadata": {
    "colab": {
      "collapsed_sections": [],
      "name": "Federated Learning for Image Classification",
      "provenance": [
        {
          "file_id": "1ReQJfPpiNTRrFhK-zK6InyBId1n_DGLm",
          "timestamp": 1547751366697
        }
      ],
      "version": "0.3.2"
    },
    "kernelspec": {
      "display_name": "Python 2",
      "name": "python2"
    }
  },
  "nbformat": 4,
  "nbformat_minor": 0
}
