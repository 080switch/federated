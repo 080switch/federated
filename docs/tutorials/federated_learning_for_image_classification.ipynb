{
  "cells": [
    {
      "cell_type": "markdown",
      "metadata": {
        "colab_type": "text",
        "id": "AftvNA5VMemJ"
      },
      "source": [
        "# Federated Learning for Image Classification"
      ]
    },
    {
      "cell_type": "markdown",
      "metadata": {
        "colab_type": "text",
        "id": "Zs2LgZBOMt4M"
      },
      "source": [
        "In this tutorial, we introduce Federated Learning (FL), a set of higher-level\n",
        "interfaces that can be used to perform common types of federated learning tasks,\n",
        "such as federated training and federated evaluation, against user-supplied\n",
        "models implemented in TensorFlow (e.g., with Keras), and we demonstrate how to\n",
        "perform simple federated learning experiments using a federated MNIST data set\n",
        "as an example.\n",
        "\n",
        "This tutorial, and the Federated Learning API, are intended primarly for users\n",
        "who will want to plug their own TensorFlow models into TFF, treating the latter\n",
        "mostly as a black box. For a more in-depth understanding of TFF and how to\n",
        "implement your own federated learning algorithms, consider also reviewing a\n",
        "follow-up tutorial\n",
        "[Custom Federated Algorithms with the Federated Core API](custom_federated_algorithms.ipynb)."
      ]
    },
    {
      "cell_type": "markdown",
      "metadata": {
        "colab_type": "text",
        "id": "MnUwFbCAKB2r"
      },
      "source": [
        "## Before we start\n",
        "\n",
        "Before we start, please run the following to make sure that your environment is\n",
        "correctly setup. If you don't see a greeting, please refer to the\n",
        "[Installation](../install.md) guide for instructions."
      ]
    },
    {
      "cell_type": "code",
      "execution_count": 21,
      "metadata": {
        "colab": {
          "height": 34
        },
        "colab_type": "code",
        "executionInfo": {
          "elapsed": 310,
          "status": "ok",
          "timestamp": 1550094524316,
          "user": {
            "displayName": "",
            "photoUrl": "",
            "userId": ""
          },
          "user_tz": 480
        },
        "id": "8BKyHkMxKHfV",
        "outputId": "e2074684-063f-45b5-fa9b-85cad7427e25"
      },
      "outputs": [
        {
          "data": {
            "text/plain": [
              "'Hello, World!'"
            ]
          },
          "execution_count": 21,
          "metadata": {
            "tags": []
          },
          "output_type": "execute_result"
        }
      ],
      "source": [
        "from __future__ import absolute_import\n",
        "from __future__ import division\n",
        "from __future__ import print_function\n",
        "\n",
        "import collections\n",
        "import numpy as np\n",
        "import tensorflow as tf\n",
        "\n",
        "from tensorflow_federated import python as tff\n",
        "\n",
        "nest = tf.contrib.framework.nest\n",
        "\n",
        "np.random.seed(0)\n",
        "\n",
        "tf.enable_eager_execution()\n",
        "tf.enable_resource_variables()\n",
        "\n",
        "tff.federated_computation(lambda: 'Hello, World!')()"
      ]
    },
    {
      "cell_type": "markdown",
      "metadata": {
        "colab_type": "text",
        "id": "5Cyy2AWbLMKj"
      },
      "source": [
        "## Preparing the input data"
      ]
    },
    {
      "cell_type": "code",
      "execution_count": 0,
      "metadata": {
        "colab": {},
        "colab_type": "code",
        "id": "NayDhCX6SjwE"
      },
      "outputs": [],
      "source": [
        "#@test {\"output\": \"ignore\"}\n",
        "mnist_train, _ = tf.keras.datasets.mnist.load_data()"
      ]
    },
    {
      "cell_type": "code",
      "execution_count": 23,
      "metadata": {
        "colab": {
          "height": 34
        },
        "colab_type": "code",
        "executionInfo": {
          "elapsed": 17,
          "status": "ok",
          "timestamp": 1550094524693,
          "user": {
            "displayName": "",
            "photoUrl": "",
            "userId": ""
          },
          "user_tz": 480
        },
        "id": "bW0ZMmdaSr1w",
        "outputId": "57ddeab2-1049-421b-c8f7-eb095504967a"
      },
      "outputs": [
        {
          "data": {
            "text/plain": [
              "[(dtype('uint8'), (60000, 28, 28)), (dtype('uint8'), (60000,))]"
            ]
          },
          "execution_count": 23,
          "metadata": {
            "tags": []
          },
          "output_type": "execute_result"
        }
      ],
      "source": [
        "[(x.dtype, x.shape) for x in mnist_train]"
      ]
    },
    {
      "cell_type": "code",
      "execution_count": 0,
      "metadata": {
        "colab": {},
        "colab_type": "code",
        "id": "cyG_BMraSuu_"
      },
      "outputs": [],
      "source": [
        "NUM_EXAMPLES_PER_USER = 1000\n",
        "BATCH_SIZE = 100\n",
        "\n",
        "def get_data_for_digit(source, digit):\n",
        "  output_sequence = []\n",
        "  all_samples = [i for i, d in enumerate(source[1]) if d == digit]\n",
        "  for i in range(0, min(len(all_samples), NUM_EXAMPLES_PER_USER), BATCH_SIZE):\n",
        "    batch_samples = all_samples[i:i + BATCH_SIZE]\n",
        "    output_sequence.append(collections.OrderedDict([\n",
        "        ('x', np.array([source[0][i].flatten() / 255.0 for i in batch_samples],\n",
        "                       dtype=np.float32)),\n",
        "        ('y', np.array([source[1][i] for i in batch_samples], dtype=np.int32))\n",
        "    ]))\n",
        "  return output_sequence\n",
        "\n",
        "federated_train_data = [get_data_for_digit(mnist_train, d) for d in xrange(10)]"
      ]
    },
    {
      "cell_type": "code",
      "execution_count": 0,
      "metadata": {
        "colab": {},
        "colab_type": "code",
        "id": "2lr0WP8C9eGF"
      },
      "outputs": [],
      "source": [
        "sample_batch = federated_train_data[0][0]"
      ]
    },
    {
      "cell_type": "code",
      "execution_count": 26,
      "metadata": {
        "colab": {
          "height": 34
        },
        "colab_type": "code",
        "executionInfo": {
          "elapsed": 17,
          "status": "ok",
          "timestamp": 1550094526541,
          "user": {
            "displayName": "",
            "photoUrl": "",
            "userId": ""
          },
          "user_tz": 480
        },
        "id": "zkVl5DWW9g87",
        "outputId": "f735ae30-726c-4340-eae2-701e18f9a3d4"
      },
      "outputs": [
        {
          "data": {
            "text/plain": [
              "OrderedDict([('x', (dtype('float32'), (100, 784))), ('y', (dtype('int32'), (100,)))])"
            ]
          },
          "execution_count": 26,
          "metadata": {
            "tags": []
          },
          "output_type": "execute_result"
        }
      ],
      "source": [
        "nest.map_structure(lambda x: (x.dtype, x.shape), sample_batch)"
      ]
    },
    {
      "cell_type": "markdown",
      "metadata": {
        "colab_type": "text",
        "id": "HOxq4tbi9m8-"
      },
      "source": [
        "## Creating a model with Keras"
      ]
    },
    {
      "cell_type": "code",
      "execution_count": 0,
      "metadata": {
        "colab": {},
        "colab_type": "code",
        "id": "LYCsJGJFWbqt"
      },
      "outputs": [],
      "source": [
        "def model_fn():\n",
        "  model = tf.keras.models.Sequential([\n",
        "      tf.keras.layers.Flatten(input_shape=(784,)),\n",
        "      tf.keras.layers.Dense(512, activation=tf.nn.relu),\n",
        "      tf.keras.layers.Dense(10, activation=tf.nn.softmax)\n",
        "  ])\n",
        "\n",
        "  model.compile(\n",
        "      loss=tf.keras.losses.SparseCategoricalCrossentropy(),\n",
        "      optimizer = tf.keras.optimizers.SGD(0.1),\n",
        "      metrics = [tf.keras.metrics.SparseCategoricalAccuracy()])\n",
        "\n",
        "  return tff.learning.from_compiled_keras_model(model, sample_batch)"
      ]
    },
    {
      "cell_type": "markdown",
      "metadata": {
        "colab_type": "text",
        "id": "XJ5E3O18_JZ6"
      },
      "source": [
        "## Training the model on federated data"
      ]
    },
    {
      "cell_type": "code",
      "execution_count": 0,
      "metadata": {
        "colab": {},
        "colab_type": "code",
        "id": "sk6mjOfycX5N"
      },
      "outputs": [],
      "source": [
        "iterative_process = tff.learning.build_federated_averaging_process(model_fn)"
      ]
    },
    {
      "cell_type": "code",
      "execution_count": 0,
      "metadata": {
        "colab": {},
        "colab_type": "code",
        "id": "6cagCWlZmcch"
      },
      "outputs": [],
      "source": [
        "state = iterative_process.initialize()"
      ]
    },
    {
      "cell_type": "code",
      "execution_count": 30,
      "metadata": {
        "colab": {
          "height": 104
        },
        "colab_type": "code",
        "executionInfo": {
          "elapsed": 457884,
          "status": "ok",
          "timestamp": 1550094992913,
          "user": {
            "displayName": "",
            "photoUrl": "",
            "userId": ""
          },
          "user_tz": 480
        },
        "id": "qrJkQuCRJP9C",
        "outputId": "9fb2bc6c-24b5-48c2-b91d-01ac7e73310d"
      },
      "outputs": [
        {
          "name": "stdout",
          "output_type": "stream",
          "text": [
            "\u003csparse_categorical_accuracy=0.9153,loss=0.273054\u003e\n",
            "\u003csparse_categorical_accuracy=0.9258,loss=0.245137\u003e\n",
            "\u003csparse_categorical_accuracy=0.9425,loss=0.22302\u003e\n",
            "\u003csparse_categorical_accuracy=0.9583,loss=0.204645\u003e\n",
            "\u003csparse_categorical_accuracy=0.9643,loss=0.18895\u003e\n"
          ]
        }
      ],
      "source": [
        "#@test {\"skip\": true}\n",
        "for _ in xrange(5):\n",
        "  state, metrics = iterative_process.next(state, federated_train_data)\n",
        "  print (metrics)"
      ]
    },
    {
      "cell_type": "markdown",
      "metadata": {
        "colab_type": "text",
        "id": "T4hneAcb-F2l"
      },
      "source": [
        "## Customizing the model implementation"
      ]
    },
    {
      "cell_type": "code",
      "execution_count": 0,
      "metadata": {
        "colab": {},
        "colab_type": "code",
        "id": "uqRD72WQC4u1"
      },
      "outputs": [],
      "source": [
        "MnistVariables = collections.namedtuple(\n",
        "    'MnistVariables', 'weights bias num_examples loss_sum accuracy_sum')"
      ]
    },
    {
      "cell_type": "code",
      "execution_count": 0,
      "metadata": {
        "colab": {},
        "colab_type": "code",
        "id": "H3GQHLNqCfMU"
      },
      "outputs": [],
      "source": [
        "def create_mnist_variables():\n",
        "  return MnistVariables(\n",
        "      weights = tf.Variable(\n",
        "          lambda: tf.zeros(dtype=tf.float32, shape=(784, 10)),\n",
        "          name='weights',\n",
        "          trainable=True),\n",
        "      bias = tf.Variable(\n",
        "          lambda: tf.zeros(dtype=tf.float32, shape=(10)),\n",
        "          name='bias',\n",
        "          trainable=True),\n",
        "      num_examples = tf.Variable(0.0, name='num_examples', trainable=False),\n",
        "      loss_sum = tf.Variable(0.0, name='loss_sum', trainable=False),\n",
        "      accuracy_sum = tf.Variable(0.0, name='accuracy_sum', trainable=False))"
      ]
    },
    {
      "cell_type": "code",
      "execution_count": 0,
      "metadata": {
        "colab": {},
        "colab_type": "code",
        "id": "ZYSRAl-KCvC7"
      },
      "outputs": [],
      "source": [
        "def mnist_forward_pass(variables, batch):\n",
        "  y = tf.nn.softmax(tf.matmul(batch['x'], variables.weights) + variables.bias)\n",
        "  predictions = tf.cast(tf.argmax(y, 1), tf.int32)\n",
        "\n",
        "  loss = -tf.reduce_mean(tf.reduce_sum(\n",
        "      tf.one_hot(batch['y'], 10) * tf.log(y), reduction_indices=[1]))\n",
        "  accuracy = tf.reduce_mean(\n",
        "      tf.cast(tf.equal(predictions, batch['y']), tf.float32))\n",
        "\n",
        "  num_examples = tf.to_float(tf.size(batch['y']))\n",
        "\n",
        "  tf.assign_add(variables.num_examples, num_examples)\n",
        "  tf.assign_add(variables.loss_sum, loss * num_examples)\n",
        "  tf.assign_add(variables.accuracy_sum, accuracy * num_examples)\n",
        "\n",
        "  return loss, predictions"
      ]
    },
    {
      "cell_type": "code",
      "execution_count": 0,
      "metadata": {
        "colab": {},
        "colab_type": "code",
        "id": "RkAZXhjGEekp"
      },
      "outputs": [],
      "source": [
        "def get_local_mnist_metrics(variables):\n",
        "  return collections.OrderedDict([\n",
        "      ('num_examples', variables.num_examples),\n",
        "      ('loss', variables.loss_sum / variables.num_examples),\n",
        "      ('accuracy', variables.accuracy_sum / variables.num_examples)\n",
        "    ])"
      ]
    },
    {
      "cell_type": "code",
      "execution_count": 0,
      "metadata": {
        "colab": {},
        "colab_type": "code",
        "id": "BMr2PwkfExFI"
      },
      "outputs": [],
      "source": [
        "@tff.federated_computation\n",
        "def aggregate_local_mnist_metrics(metrics):\n",
        "  return {\n",
        "      'num_examples': tff.federated_sum(metrics.num_examples),\n",
        "      'loss': tff.federated_average(metrics.loss, metrics.num_examples),\n",
        "      'accuracy': tff.federated_average(metrics.accuracy, metrics.num_examples)\n",
        "  }"
      ]
    },
    {
      "cell_type": "code",
      "execution_count": 0,
      "metadata": {
        "colab": {},
        "colab_type": "code",
        "id": "blQGiTQFS9_r"
      },
      "outputs": [],
      "source": [
        "class MnistModel(tff.learning.Model):\n",
        "\n",
        "  def __init__(self):\n",
        "    self._variables = create_mnist_variables()\n",
        "\n",
        "  @property\n",
        "  def trainable_variables(self):\n",
        "    return [self._variables.weights, self._variables.bias]\n",
        "\n",
        "  @property\n",
        "  def non_trainable_variables(self):\n",
        "    return []\n",
        "\n",
        "  @property\n",
        "  def local_variables(self):\n",
        "    return [self._variables.num_examples,\n",
        "            self._variables.loss_sum,\n",
        "            self._variables.accuracy_sum]\n",
        "\n",
        "  @property\n",
        "  def input_spec(self):\n",
        "    return collections.OrderedDict([\n",
        "        ('x', tf.TensorSpec([None, 784], tf.float32)),\n",
        "        ('y', tf.TensorSpec([None], tf.int32))])\n",
        "\n",
        "  @tf.contrib.eager.function(autograph=False)\n",
        "  def forward_pass(self, batch, training=True):\n",
        "    del training\n",
        "    loss, predictions = mnist_forward_pass(self._variables, batch)\n",
        "    return tff.learning.BatchOutput(loss=loss, predictions=predictions)\n",
        "\n",
        "  @tf.contrib.eager.function(autograph=False)\n",
        "  def report_local_outputs(self):\n",
        "    return get_local_mnist_metrics(self._variables)\n",
        "\n",
        "  @property\n",
        "  def federated_output_computation(self):\n",
        "    return aggregate_local_mnist_metrics"
      ]
    },
    {
      "cell_type": "code",
      "execution_count": 0,
      "metadata": {
        "colab": {},
        "colab_type": "code",
        "id": "q1w7US3PFN2p"
      },
      "outputs": [],
      "source": [
        "class MnistTrainableModel(MnistModel, tff.learning.TrainableModel):\n",
        "\n",
        "  @tf.contrib.eager.defun(autograph=False)\n",
        "  def train_on_batch(self, batch):\n",
        "    output = self.forward_pass(batch)\n",
        "    optimizer = tf.train.GradientDescentOptimizer(0.1)\n",
        "    optimizer.minimize(output.loss, var_list=self.trainable_variables)\n",
        "    return output"
      ]
    },
    {
      "cell_type": "code",
      "execution_count": 0,
      "metadata": {
        "colab": {},
        "colab_type": "code",
        "id": "FK3c8_leS9_t"
      },
      "outputs": [],
      "source": [
        "iterative_process = tff.learning.build_federated_averaging_process(\n",
        "    MnistTrainableModel)"
      ]
    },
    {
      "cell_type": "code",
      "execution_count": 0,
      "metadata": {
        "colab": {},
        "colab_type": "code",
        "id": "Jv_LiggwS9_u"
      },
      "outputs": [],
      "source": [
        "state = iterative_process.initialize()"
      ]
    },
    {
      "cell_type": "code",
      "execution_count": 40,
      "metadata": {
        "colab": {
          "height": 104
        },
        "colab_type": "code",
        "executionInfo": {
          "elapsed": 338697,
          "status": "ok",
          "timestamp": 1550095335640,
          "user": {
            "displayName": "",
            "photoUrl": "",
            "userId": ""
          },
          "user_tz": 480
        },
        "id": "gFkv0yJEGhue",
        "outputId": "4ec9f4cf-3b26-4445-db66-248997cff363"
      },
      "outputs": [
        {
          "name": "stdout",
          "output_type": "stream",
          "text": [
            "\u003caccuracy=0.91,loss=0.293638,num_examples=10000.0\u003e\n",
            "\u003caccuracy=0.976,loss=0.277596,num_examples=10000.0\u003e\n",
            "\u003caccuracy=0.9786,loss=0.263369,num_examples=10000.0\u003e\n",
            "\u003caccuracy=0.9796,loss=0.25075,num_examples=10000.0\u003e\n",
            "\u003caccuracy=0.98,loss=0.239585,num_examples=10000.0\u003e\n"
          ]
        }
      ],
      "source": [
        "#@test {\"skip\": true}\n",
        "for _ in xrange(5):\n",
        "  state, metrics = iterative_process.next(state, federated_train_data)\n",
        "  print (metrics)"
      ]
    }
  ],
  "metadata": {
    "colab": {
      "collapsed_sections": [],
      "last_runtime": {
        "build_target": "",
        "kind": "local"
      },
      "name": "Federated Learning for Image Classification",
      "provenance": [
        {
          "file_id": "1ReQJfPpiNTRrFhK-zK6InyBId1n_DGLm",
          "timestamp": 1547751366697
        }
      ],
      "version": "0.3.2"
    },
    "kernelspec": {
      "display_name": "Python 2",
      "name": "python2"
    }
  },
  "nbformat": 4,
  "nbformat_minor": 0
}
