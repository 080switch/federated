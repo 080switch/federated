{
  "cells": [
    {
      "cell_type": "markdown",
      "metadata": {
        "colab_type": "text",
        "id": "32xflLc4NTx-"
      },
      "source": [
        "# Custom Federated Algorithms with the Federated Core API"
      ]
    },
    {
      "cell_type": "markdown",
      "metadata": {
        "colab_type": "text",
        "id": "_igJ2sfaNWS8"
      },
      "source": [
        "In this tutorial, we introduce the Federated Core (FC), a set of lower-level\n",
        "interfaces that can be used to implement custom types of federated algorithms,\n",
        "and we show how one can implement a simplified version of federated training and\n",
        "evaluation in terms of these lower-level interfaces.\n",
        "\n",
        "The tutorial is designed to be self-contained, but it builds concepts\n",
        "systematically in a bottom-up fashion, and somewhat in-depth. We encourage the\n",
        "reader to first skim over\n",
        "[Federated Learning for Image Classification](federated_learning_for_image_classification.md)\n",
        "for a higher-level and more gentle introduction to the TensorFlow Federated\n",
        "framework."
      ]
    },
    {
      "cell_type": "markdown",
      "metadata": {
        "colab_type": "text",
        "id": "cuJuLEh2TfZG"
      },
      "source": [
        "## Before we start\n",
        "\n",
        "Before we start, try to run the following \"Hello World\" example to make sure\n",
        "your environment is correctly setup. If it doesn't work, please refer to the\n",
        "[Installation](../install.md) guide for instructions."
      ]
    },
    {
      "cell_type": "code",
      "execution_count": 1,
      "metadata": {
        "colab": {
          "height": 34
        },
        "colab_type": "code",
        "executionInfo": {
          "elapsed": 9643,
          "status": "ok",
          "timestamp": 1549575769843,
          "user": {
            "displayName": "",
            "photoUrl": "",
            "userId": ""
          },
          "user_tz": 480
        },
        "id": "-skNC6aovM46",
        "outputId": "8127ddb0-7b63-48be-b831-257914259611"
      },
      "outputs": [
        {
          "data": {
            "text/plain": [
              "'Hello, World!'"
            ]
          },
          "execution_count": 1,
          "metadata": {
            "tags": []
          },
          "output_type": "execute_result"
        }
      ],
      "source": [
        "from __future__ import absolute_import\n",
        "from __future__ import division\n",
        "from __future__ import print_function\n",
        "\n",
        "import numpy as np\n",
        "import tensorflow as tf\n",
        "\n",
        "from tensorflow_federated import python as tff\n",
        "\n",
        "tf.enable_resource_variables()\n",
        "\n",
        "@tff.federated_computation\n",
        "def hello_world():\n",
        "  return 'Hello, World!'\n",
        "\n",
        "hello_world()"
      ]
    },
    {
      "cell_type": "markdown",
      "metadata": {
        "colab_type": "text",
        "id": "9xX97PJwaBLf"
      },
      "source": [
        "## Federated data\n",
        "\n",
        "One of the key distinguishing features of TFF is that it allows you to compactly\n",
        "express TensorFlow-based computations on *federated data*. We will be using the\n",
        "term *federated data* in this tutorial to refer to a collection of data items\n",
        "hosted across a group of devices in a distributed system.\n",
        "\n",
        "One particularly important example of federated data that motivated the\n",
        "development of TFF is on-device data created by an Android application and\n",
        "hosted on a group of users' mobile phones.\n",
        "\n",
        "Another example of federated data may be a collection of temperature readings in\n",
        "an array of distributed sensors.\n",
        "\n",
        "Federated data like those in the above examples are treated in TFF as\n",
        "[first-class citizens](https://en.wikipedia.org/wiki/First-class_citizen), i.e.,\n",
        "they may appear as parameters and results of functions, and they have types. To\n",
        "reinforce this notion, we will henceforth refer in this tutorial to federated\n",
        "data sets as *federated values*, or as *values of federated types*.\n",
        "\n",
        "The important point to understand is that we are modeling the entire collection\n",
        "of data items across all devices (e.g., the entire collection temperature\n",
        "readings from all sensors in a distribuited array) as a single federated value.\n",
        "\n",
        "For example, here's how one would define in TFF the type of *federated floats*\n",
        "hosted by a group of client devices. A collection of temperature readings that\n",
        "might materialize across an array of distributed sensors could be considered a\n",
        "value of such federated type."
      ]
    },
    {
      "cell_type": "code",
      "execution_count": 0,
      "metadata": {
        "colab": {},
        "colab_type": "code",
        "id": "COe0tLPPtTbe"
      },
      "outputs": [],
      "source": [
        "federated_float_on_clients = tff.FederatedType(tf.float32, tff.CLIENTS)"
      ]
    },
    {
      "cell_type": "markdown",
      "metadata": {
        "colab_type": "text",
        "id": "iCAMsF_T8p63"
      },
      "source": [
        "More generally, a federated type in TFF is defined by specifying the type `T` of\n",
        "its *member constituents* - the items of data that reside on individual devices,\n",
        "and the group `G` of devices on which federated values of this type are hosted\n",
        "(plus a third, optional bit of information we'll mention shortly). We refer to\n",
        "the group `G` of devices hosting a federated value as the value's *placement*.\n",
        "Thus, `tff.CLIENTS` is an example of a placement."
      ]
    },
    {
      "cell_type": "code",
      "execution_count": 3,
      "metadata": {
        "colab": {
          "height": 34
        },
        "colab_type": "code",
        "executionInfo": {
          "elapsed": 17,
          "status": "ok",
          "timestamp": 1549575770033,
          "user": {
            "displayName": "",
            "photoUrl": "",
            "userId": ""
          },
          "user_tz": 480
        },
        "id": "zFVZQwUZ_nbt",
        "outputId": "05fbd88b-549c-4e9e-df04-7d11c7a4c995"
      },
      "outputs": [
        {
          "data": {
            "text/plain": [
              "'float32'"
            ]
          },
          "execution_count": 3,
          "metadata": {
            "tags": []
          },
          "output_type": "execute_result"
        }
      ],
      "source": [
        "str(federated_float_on_clients.member)"
      ]
    },
    {
      "cell_type": "code",
      "execution_count": 4,
      "metadata": {
        "colab": {
          "height": 34
        },
        "colab_type": "code",
        "executionInfo": {
          "elapsed": 14,
          "status": "ok",
          "timestamp": 1549575770101,
          "user": {
            "displayName": "",
            "photoUrl": "",
            "userId": ""
          },
          "user_tz": 480
        },
        "id": "eTK00mVb_qi7",
        "outputId": "90736410-6c72-46fb-9961-4769e9a4d1b2"
      },
      "outputs": [
        {
          "data": {
            "text/plain": [
              "'CLIENTS'"
            ]
          },
          "execution_count": 4,
          "metadata": {
            "tags": []
          },
          "output_type": "execute_result"
        }
      ],
      "source": [
        "str(federated_float_on_clients.placement)"
      ]
    },
    {
      "cell_type": "markdown",
      "metadata": {
        "colab_type": "text",
        "id": "Q6dp3OHVW_2Q"
      },
      "source": [
        "A federated type with member constituents `T` and placement `G` can be\n",
        "represented compactly as `{T}@G`, as shown below."
      ]
    },
    {
      "cell_type": "code",
      "execution_count": 5,
      "metadata": {
        "colab": {
          "height": 34
        },
        "colab_type": "code",
        "executionInfo": {
          "elapsed": 65,
          "status": "ok",
          "timestamp": 1549575770237,
          "user": {
            "displayName": "",
            "photoUrl": "",
            "userId": ""
          },
          "user_tz": 480
        },
        "id": "eR-9cP219brl",
        "outputId": "bab27739-721d-4363-9571-249157201084"
      },
      "outputs": [
        {
          "data": {
            "text/plain": [
              "'{float32}@CLIENTS'"
            ]
          },
          "execution_count": 5,
          "metadata": {
            "tags": []
          },
          "output_type": "execute_result"
        }
      ],
      "source": [
        "str(federated_float_on_clients)"
      ]
    },
    {
      "cell_type": "markdown",
      "metadata": {
        "colab_type": "text",
        "id": "9kn1logOGtBI"
      },
      "source": [
        "The curly braces `{}` in this concise notation serve as a reminder that the\n",
        "member constituents (items of data on different devices) may differ, as you\n",
        "would expect e.g., of temperature sensor readings, so the clients as a group are\n",
        "jointly hosting a\n",
        "[multi-set](https://en.wikipedia.org/wiki/Set_\\(abstract_data_type\\)#Multiset))\n",
        "of `T`-typed items that together constitute the federated value.\n",
        "\n",
        "Federated types in TFF come in two flavors: those where the member constituents\n",
        "of a federated value may differ (as just seen above), and those where they are\n",
        "known to be all equal. This is controlled by the third, optional `all_equal`\n",
        "parameter in the `tff.FederatedType` constructor (defaulting to `False`)."
      ]
    },
    {
      "cell_type": "code",
      "execution_count": 6,
      "metadata": {
        "colab": {
          "height": 34
        },
        "colab_type": "code",
        "executionInfo": {
          "elapsed": 48,
          "status": "ok",
          "timestamp": 1549575770336,
          "user": {
            "displayName": "",
            "photoUrl": "",
            "userId": ""
          },
          "user_tz": 480
        },
        "id": "wenF_FnGivCZ",
        "outputId": "761696e7-20bd-4333-f90f-7a0d716fc471"
      },
      "outputs": [
        {
          "data": {
            "text/plain": [
              "False"
            ]
          },
          "execution_count": 6,
          "metadata": {
            "tags": []
          },
          "output_type": "execute_result"
        }
      ],
      "source": [
        "federated_float_on_clients.all_equal"
      ]
    },
    {
      "cell_type": "markdown",
      "metadata": {
        "colab_type": "text",
        "id": "6wxL6UAkittF"
      },
      "source": [
        "A federated type with a placement `G` in which all of the `T`-typed member\n",
        "constituents are known to be equal can be compactly represented as `T@G` (as\n",
        "opposed to `{T}@G`, that is, with the curly braces dropped to reflect the fact\n",
        "that the multi-set of member constituents consists of a single item)."
      ]
    },
    {
      "cell_type": "code",
      "execution_count": 7,
      "metadata": {
        "colab": {
          "height": 34
        },
        "colab_type": "code",
        "executionInfo": {
          "elapsed": 61,
          "status": "ok",
          "timestamp": 1549575770475,
          "user": {
            "displayName": "",
            "photoUrl": "",
            "userId": ""
          },
          "user_tz": 480
        },
        "id": "ei1pmBEuLWf-",
        "outputId": "5cfe6fa0-4c21-4353-887f-9cd45b92598f"
      },
      "outputs": [
        {
          "data": {
            "text/plain": [
              "'float32@CLIENTS'"
            ]
          },
          "execution_count": 7,
          "metadata": {
            "tags": []
          },
          "output_type": "execute_result"
        }
      ],
      "source": [
        "str(tff.FederatedType(tf.float32, tff.CLIENTS, all_equal=True))"
      ]
    },
    {
      "cell_type": "markdown",
      "metadata": {
        "colab_type": "text",
        "id": "pZ2JlbX6H0h5"
      },
      "source": [
        "One example of a federated value of such type that might arise in practical\n",
        "scenarios is a hyperparameter (such as a learning rate, a clipping norm, etc.)\n",
        "that's been broadcasted by a server to a group of devices that participate in\n",
        "federated training.\n",
        "\n",
        "Another example would be a set of parameters for a machine learning model that\n",
        "had been pre-trained at the server, and that were subsequently broadcasted to a\n",
        "group of client devices in order to be further individually personalized for\n",
        "each user.\n",
        "\n",
        "For example, suppose we have a pair of `float32` parameters `a` and `b` of a\n",
        "simple one-dimensional linear regression model. We can construct the\n",
        "(non-federated) type of such models for use in TFF as follows. The angle braces\n",
        "`\u003c\u003e` in the printed type string are a compact TFF notation for named or unnamed\n",
        "tuples."
      ]
    },
    {
      "cell_type": "code",
      "execution_count": 8,
      "metadata": {
        "colab": {
          "height": 34
        },
        "colab_type": "code",
        "executionInfo": {
          "elapsed": 11,
          "status": "ok",
          "timestamp": 1549575770568,
          "user": {
            "displayName": "",
            "photoUrl": "",
            "userId": ""
          },
          "user_tz": 480
        },
        "id": "noN9mFSN10e6",
        "outputId": "c65c16f8-3669-45a3-a2c2-f99d8ca8cff4"
      },
      "outputs": [
        {
          "data": {
            "text/plain": [
              "'\u003ca=float32,b=float32\u003e'"
            ]
          },
          "execution_count": 8,
          "metadata": {
            "tags": []
          },
          "output_type": "execute_result"
        }
      ],
      "source": [
        "simple_regression_model = (\n",
        "    tff.NamedTupleType([('a', tf.float32), ('b', tf.float32)]))\n",
        "\n",
        "str(simple_regression_model)"
      ]
    },
    {
      "cell_type": "markdown",
      "metadata": {
        "colab_type": "text",
        "id": "ytngzr6r10yn"
      },
      "source": [
        "When such a model is broadcasted to the set of clients, the type of the\n",
        "resulting federated value can be represented as shown below."
      ]
    },
    {
      "cell_type": "code",
      "execution_count": 9,
      "metadata": {
        "colab": {
          "height": 34
        },
        "colab_type": "code",
        "executionInfo": {
          "elapsed": 52,
          "status": "ok",
          "timestamp": 1549575770688,
          "user": {
            "displayName": "",
            "photoUrl": "",
            "userId": ""
          },
          "user_tz": 480
        },
        "id": "jZxvM1m9OJZc",
        "outputId": "cf61dc85-a197-4f56-bdbe-59f4bcf4f074"
      },
      "outputs": [
        {
          "data": {
            "text/plain": [
              "'\u003ca=float32,b=float32\u003e@CLIENTS'"
            ]
          },
          "execution_count": 9,
          "metadata": {
            "tags": []
          },
          "output_type": "execute_result"
        }
      ],
      "source": [
        "str(tff.FederatedType(simple_regression_model, tff.CLIENTS, all_equal=True))"
      ]
    },
    {
      "cell_type": "markdown",
      "metadata": {
        "colab_type": "text",
        "id": "WfnRcX7rNspF"
      },
      "source": [
        "Per symmetry with *federated float* above, we will refer to such a type as a\n",
        "*federated tuple*. More generally, we'll often use the term *federated XYZ* to\n",
        "refer to a federated value in which member constituents are *XYZ*-like. Thus, we\n",
        "will talk about things like *federated tuples*, *federated sequences*,\n",
        "*federated models*, and so on.\n",
        "\n",
        "Now, coming back to `float32@CLIENTS` - while it appears replicated across\n",
        "multiple devices, it is actually a single `float32`, since all member are the\n",
        "same. In general, you may think of any *all-equal* federated type, i.e., one of\n",
        "the form `T@G`, as isomorphic to a non-federated type `T`, since in both cases,\n",
        "there's actually only a single (albeit potentially replicated) item of type `T`.\n",
        "\n",
        "Given the isomorphism between `T` and `T@G`, you may wonder what purpose, if\n",
        "any, the latter types might serve. Read on."
      ]
    },
    {
      "cell_type": "markdown",
      "metadata": {
        "colab_type": "text",
        "id": "pUXF8WEQLV26"
      },
      "source": [
        "## Placements\n",
        "\n",
        "In the preceding section, we've introduced the concept of *placements* - groups\n",
        "of systems participants that might be jointly hosting a federated value, and\n",
        "we've demonstrated the use of `tff.CLIENTS` as an example specification of a\n",
        "placement.\n",
        "\n",
        "In order to explain why the notion of *placement* is so fundamental that we\n",
        "needed to incorporate it into the TFF type system, we need to first say a few\n",
        "words about some of the intended uses of TFF.\n",
        "\n",
        "Although in this tutorial, you will only see TFF code being executed locally in\n",
        "a simulated environment in the browser, our ultimate goal is for TFF to enable\n",
        "writing code that you can deploy, unmodified, for execution on groups of\n",
        "physical devices in a distributed system, each of which will need to receive a\n",
        "separate set of instructions to execute locally, depending on the role it plays\n",
        "in the system (an end-user device, a centralized coordinator, an intermediate\n",
        "layer in a multi-tier architecture, etc.). It is important to be able to reason\n",
        "about which subsets of devices execute what code, and where different portions\n",
        "of the data might physically materialize.\n",
        "\n",
        "This is especially important when dealing with, e.g., Android application data\n",
        "on mobile devices. Since the data is private and can be sensitive, we need the\n",
        "ability to statically verify that such data will never leave the device (and\n",
        "prove facts about how the data is being processed). The placement specifications\n",
        "are one of the mechanisms designed to support this.\n",
        "\n",
        "TFF has been designed as a data-centric programming environment, and as such,\n",
        "unlike some of the existing frameworks that focus on *operations* and where\n",
        "those operations might *run*, TFF focuses on *data*, where that data\n",
        "*materializes*, and how it's being *transformed*. Consequently, placement is\n",
        "modeled as a property of data in TFF, rather than as a property of operations on\n",
        "data.\n",
        "\n",
        "Indeed, as you're about to see in the next section, some of the TFF operations\n",
        "span across locations, and run \"in the network\", so to speak, rather than being\n",
        "executed by a single machine or a group of machines. Representing the type of a\n",
        "certain value as `T@G` or `{T}@G` (as opposed to just `T`) makes data placement\n",
        "decisions explicit, and together with a static analysis of programs written in\n",
        "TFF, it can serve as a foundation for providing formal privacy guarantees for\n",
        "sensitive on-device data.\n",
        "\n",
        "An important thing to note at this point, however, is that whereas we do\n",
        "encourage users to be explicit about *groups* of participating devices that host\n",
        "their data (the placements), the programmer will never deal with the identities\n",
        "of the *individual* participants.\n",
        "\n",
        "Within the body of TFF code, by design there's no way to e.g., enumerate the\n",
        "devices that constitute the group represented by `tff.CLIENTS`, or to probe for\n",
        "the existence of a specific device in the group. There's no concept of a device\n",
        "or client identity anywhere in the Federated Core API, the underlying set of\n",
        "architectural abstractions, or the core runtime infrastructure we provide to\n",
        "support simulations. All the computation logic you write will be expressed as\n",
        "operations on the entire client group.\n",
        "\n",
        "Placements *are* designed to be a first-class citizen in TFF as well, and can\n",
        "appear as parameters and results of a `placement` type, represented by\n",
        "`tff.PlacementType` in the API. In the future, we do plan to eventually provide\n",
        "a variety of operators that will allow you to transform or combine placements,\n",
        "but this is outside the scope of this tutorial. For now, it suffices to think of\n",
        "`placement` as an opaque primitive built-in type in TFF, similar to how `int`\n",
        "and `bool` are opaque built-in types in Python, with `tff.CLIENTS` being a\n",
        "constant literal of this type, not unlike `1` being a constant literal of type\n",
        "`int`.\n",
        "\n",
        "TFF provides two basic placement literals, `tff.CLIENTS` and `tff.SERVER`, to\n",
        "make it easy to express the rich variety practical scenarios that are naturally\n",
        "modeled as client-server architectures, with multiple *client* devices (mobile\n",
        "phones, embedded devices, distributed databases, sensors, etc.) under the\n",
        "control of a single centralized *server* coordinator. TFF is designed to also be\n",
        "able to support custom placements, multiple client groups, multi-tiered and\n",
        "other, more general distributed architectures, but discussing them is outside\n",
        "the scope of this tutorial.\n",
        "\n",
        "TFF doesn't prescribe what either the `tff.CLIENTS` or the `tff.SERVER` actually\n",
        "represent. In particular, the server may be a single physical device (a member\n",
        "of a singleton group), but it might just as well be a group of replicas in a\n",
        "fault-tolerant cluster running state machine replication - we do not make any\n",
        "special architectural assumptions. Rather, we use the `all_equal` bit mentioned\n",
        "in the preceding section to express the fact that we're generally dealing with\n",
        "only a single item of data at the server."
      ]
    },
    {
      "cell_type": "markdown",
      "metadata": {
        "colab_type": "text",
        "id": "9Lmpr7vpA-3A"
      },
      "source": [
        "## Federated computations\n",
        "\n",
        "TFF is designed as a strongly-typed functional programming environment that\n",
        "supports modular development. The basic unit of composition in TFF is a\n",
        "*federated computation* - a section of logic that may accept federated values at\n",
        "intput and return federated values at output. Here's how you can define a\n",
        "computation that calculates the average of the temperatures reported by the\n",
        "sensor array from our previous example."
      ]
    },
    {
      "cell_type": "code",
      "execution_count": 0,
      "metadata": {
        "colab": {},
        "colab_type": "code",
        "id": "g38EkHwGGEUo"
      },
      "outputs": [],
      "source": [
        "@tff.federated_computation(tff.FederatedType(tf.float32, tff.CLIENTS))\n",
        "def get_average_temperature(sensor_readings):\n",
        "  return tff.federated_average(sensor_readings)"
      ]
    },
    {
      "cell_type": "markdown",
      "metadata": {
        "colab_type": "text",
        "id": "yjRTFxGxY-AL"
      },
      "source": [
        "TFF computations you will define are generally modeled as functions - with or\n",
        "without parameters, but always with well-defined type signatures. Here's how you\n",
        "can print the type signature of the computation `get_average_temperature` just\n",
        "defined above."
      ]
    },
    {
      "cell_type": "code",
      "execution_count": 11,
      "metadata": {
        "colab": {
          "height": 34
        },
        "colab_type": "code",
        "executionInfo": {
          "elapsed": 12,
          "status": "ok",
          "timestamp": 1549575770871,
          "user": {
            "displayName": "",
            "photoUrl": "",
            "userId": ""
          },
          "user_tz": 480
        },
        "id": "o7FmRyQACtZU",
        "outputId": "7a539653-c6da-443c-c835-d799f64f684d"
      },
      "outputs": [
        {
          "data": {
            "text/plain": [
              "'({float32}@CLIENTS -\u003e float32@SERVER)'"
            ]
          },
          "execution_count": 11,
          "metadata": {
            "tags": []
          },
          "output_type": "execute_result"
        }
      ],
      "source": [
        "str(get_average_temperature.type_signature)"
      ]
    },
    {
      "cell_type": "markdown",
      "metadata": {
        "colab_type": "text",
        "id": "UCJGl2SFAs7S"
      },
      "source": [
        "The type signature tells us that the computation accepts a collection of\n",
        "different sensor readings on client devices, and returns a single average on the\n",
        "server, just as one would expect.\n",
        "\n",
        "Functional type signatures are always represented compactly as `(T -\u003e U)` for\n",
        "some types `T` and `U` of inputs and outputs, respectively. The type of the\n",
        "formal parameter `sensor_readings` is always specified as the argument to the\n",
        "decorator. You don't need to specify the type of the result - it's determined\n",
        "automatically.\n",
        "\n",
        "Although TFF does offer limited forms of polymorphism, and we'll see examples of\n",
        "it later, programmers are strongly encouraged to always be explicit about the\n",
        "types of data they work with, as that makes understanding and debugging programs\n",
        "easier. In some cases, expllicitly specifying types is a requirement (e.g.,\n",
        "polymorphic computations are currently not directly executable).\n",
        "\n",
        "In order to support development and debugging, TFF allows you to directly invoke\n",
        "computations defined this way as Python functions, as shown below. Where the\n",
        "computation expects a value of a federated type with the `all_equal` bit set to\n",
        "`False`, you can feed it as a plain `list` in Python, and for federated types\n",
        "with the `all_equal` bit set to `True`, you can just directly feed the (single)\n",
        "member constituent. This is also how the results are reported back to you."
      ]
    },
    {
      "cell_type": "code",
      "execution_count": 12,
      "metadata": {
        "colab": {
          "height": 34
        },
        "colab_type": "code",
        "executionInfo": {
          "elapsed": 73,
          "status": "ok",
          "timestamp": 1549575771012,
          "user": {
            "displayName": "",
            "photoUrl": "",
            "userId": ""
          },
          "user_tz": 480
        },
        "id": "HMDW-7U1aREW",
        "outputId": "a924b231-4265-4c4c-ff8b-04e7b5884f1e"
      },
      "outputs": [
        {
          "data": {
            "text/plain": [
              "69.533333"
            ]
          },
          "execution_count": 12,
          "metadata": {
            "tags": []
          },
          "output_type": "execute_result"
        }
      ],
      "source": [
        "get_average_temperature([68.5, 70.3, 69.8])"
      ]
    },
    {
      "cell_type": "markdown",
      "metadata": {
        "colab_type": "text",
        "id": "XsTKl4OIBUSH"
      },
      "source": [
        "It is important to understand, however, that although the logic of TFF\n",
        "computations can be expressed as ordinary functions in Python (you just need to\n",
        "decorate them with `tff.federated_computation`), and you can directly invoke\n",
        "them with Python arguments just like any other Python functions in this\n",
        "notebook, behind the scenes, TFF computations are actually *not* Python.\n",
        "\n",
        "What we mean by this is that TFF has an internal language that every section of\n",
        "Python code decorated with `tff.federated_computation` is compiled into.\n",
        "\n",
        "When the Python interpreter encounters a function decorated with\n",
        "`tff.federated_computation`, it traces the statements in this function's body\n",
        "once (at definition time), and then constructs a\n",
        "[serialized representation](https://github.com/tensorflow/federated/blob/master/tensorflow_federated/proto/v0/computation.proto)\n",
        "of the computation's logic for future use - whether for execution, or to be\n",
        "incorporated as a sub-component into another computation.\n",
        "\n",
        "You can think of Python code that defines a federated computation similarly to\n",
        "how you would think of Python code that builds a TensorFlow graph in a non-eager\n",
        "context. The non-eager graph-building code in TensorFlow is Python, but the\n",
        "TensorFlow graph constructed by this code is platform-independent and\n",
        "serializable.\n",
        "\n",
        "Likewise, TFF computations are defined in Python, but immediately compiled into\n",
        "a portable and platform-independent serializable representation under the hood.\n",
        "As a developer, you don't need to concern yourself with the details of this\n",
        "representation, as you will never need to directly work with it, but you should\n",
        "be aware of its existence, the fact that TFF computations are fundamentally\n",
        "non-eager, and cannot capture arbitrary Python state. Python code contained in a\n",
        "TFF computation's body is executed at definition time, when the body of the\n",
        "Python function decorated with `tff.federated_computation` is traced before\n",
        "getting serialized. It's not retraced again at invocation time (except when the\n",
        "function is polymorphic; more on this later).\n",
        "\n",
        "You may wonder why we've chosen to introduce a dedicated internal non-Python\n",
        "representation. A part of the reason is that ultimately, TFF computations are\n",
        "intended to be deployable to real physical environments, and hosted on groups of\n",
        "mobile or embedded devices, where Python may simply not be available.\n",
        "\n",
        "Another reason is that TFF computations express the global behavior of\n",
        "distributed systems, as opposed to Python programs which express the local\n",
        "behavior of individual participants. You can see it even in the simple example\n",
        "above, with the special operator `tff.federated_average` that accepts data on\n",
        "client devices, but deposits the results on the server. The\n",
        "operator`tff.federated_average` cannot be easily modeled as an ordinary operator\n",
        "in Python, since it doesn't execute locally - it represents a distributed\n",
        "protocol that coordinates the behavior of multiple system participants. The\n",
        "operator `tff.federated_average` is, in fact, a simple distributed system\n",
        "embedded in the body of the computation. We will refer to such operators as\n",
        "*federated operators*, to distinguish them from ordinary (local) operators in\n",
        "Python.\n",
        "\n",
        "Indeed, federated computations and their constituents *are* best understood as\n",
        "models of distributed systems, and you can think of composing federated\n",
        "computations as composing more complex distributed systems from simpler ones.\n",
        "The TFF type system, and the kinds of operations supported in the TFF's\n",
        "language, thus differ significantly from those in Python, necessitating the use\n",
        "of a dedicated representation.\n",
        "\n",
        "An important restriction to be aware of is that bodies of Python functions\n",
        "decorated with `tff.federated_computation`must consist *only* of federated\n",
        "operators, i.e., they cannot directly contain TensorFlow operations. TensorFlow\n",
        "code must be confined to blocks of code decorated with a `tff.tf_computation`\n",
        "discussed in the following section."
      ]
    },
    {
      "cell_type": "markdown",
      "metadata": {
        "colab_type": "text",
        "id": "RR4EOrl4errh"
      },
      "source": [
        "## TensorFlow logic\n",
        "\n",
        "TFF is designed for use with TensorFlow, and although it introduces things like\n",
        "federated types, and operators such as `tff.federated_average`, the bulk of the\n",
        "code you will write in TFF is ordinary TensorFlow. In order to use such code\n",
        "with TFF, as noted above, it just needs to be decorated with\n",
        "`tff.tf_computation`.\n",
        "\n",
        "For example, here's how we could implement a function that takes a number and\n",
        "adds `0.5` to it."
      ]
    },
    {
      "cell_type": "code",
      "execution_count": 0,
      "metadata": {
        "colab": {},
        "colab_type": "code",
        "id": "dpdAqMcygnmr"
      },
      "outputs": [],
      "source": [
        "@tff.tf_computation(tf.float32)\n",
        "def add_half(x):\n",
        "  return tf.add(x, 0.5)"
      ]
    },
    {
      "cell_type": "markdown",
      "metadata": {
        "colab_type": "text",
        "id": "c9xofAttjMeD"
      },
      "source": [
        "A computation `add_half` defined this way can be just just like any other TFF\n",
        "computation. In particular, it has a TFF type signature."
      ]
    },
    {
      "cell_type": "code",
      "execution_count": 14,
      "metadata": {
        "colab": {
          "height": 34
        },
        "colab_type": "code",
        "executionInfo": {
          "elapsed": 10,
          "status": "ok",
          "timestamp": 1549575771178,
          "user": {
            "displayName": "",
            "photoUrl": "",
            "userId": ""
          },
          "user_tz": 480
        },
        "id": "93UdxrpgkHgj",
        "outputId": "5bd7059d-905b-4dac-8b48-02e9a58982ff"
      },
      "outputs": [
        {
          "data": {
            "text/plain": [
              "'(float32 -\u003e float32)'"
            ]
          },
          "execution_count": 14,
          "metadata": {
            "tags": []
          },
          "output_type": "execute_result"
        }
      ],
      "source": [
        "str(add_half.type_signature)"
      ]
    },
    {
      "cell_type": "markdown",
      "metadata": {
        "colab_type": "text",
        "id": "xpiERRtQlBKq"
      },
      "source": [
        "You can also now use such computation as a building block in other places. For\n",
        "example, here's how you can use the `tff.federated_map` operator to apply\n",
        "`add_half` pointwise to all member constituents of a federated float on client\n",
        "devices."
      ]
    },
    {
      "cell_type": "code",
      "execution_count": 0,
      "metadata": {
        "colab": {},
        "colab_type": "code",
        "id": "z08K5UKBlSJP"
      },
      "outputs": [],
      "source": [
        "@tff.federated_computation(tff.FederatedType(tf.float32, tff.CLIENTS))\n",
        "def add_half_on_clients(x):\n",
        "  return tff.federated_map(add_half, x)"
      ]
    },
    {
      "cell_type": "code",
      "execution_count": 16,
      "metadata": {
        "colab": {
          "height": 34
        },
        "colab_type": "code",
        "executionInfo": {
          "elapsed": 14,
          "status": "ok",
          "timestamp": 1549575771430,
          "user": {
            "displayName": "",
            "photoUrl": "",
            "userId": ""
          },
          "user_tz": 480
        },
        "id": "P4wjJgLnlkDW",
        "outputId": "18bb87e6-07ac-4128-e335-7cc877f96f16"
      },
      "outputs": [
        {
          "data": {
            "text/plain": [
              "'({float32}@CLIENTS -\u003e {float32}@CLIENTS)'"
            ]
          },
          "execution_count": 16,
          "metadata": {
            "tags": []
          },
          "output_type": "execute_result"
        }
      ],
      "source": [
        "str(add_half_on_clients.type_signature)"
      ]
    },
    {
      "cell_type": "code",
      "execution_count": 17,
      "metadata": {
        "colab": {
          "height": 34
        },
        "colab_type": "code",
        "executionInfo": {
          "elapsed": 78,
          "status": "ok",
          "timestamp": 1549575771575,
          "user": {
            "displayName": "",
            "photoUrl": "",
            "userId": ""
          },
          "user_tz": 480
        },
        "id": "gPsr1oEsl59G",
        "outputId": "ea51abda-4880-4974-dfb1-b7a8a3c981db"
      },
      "outputs": [
        {
          "data": {
            "text/plain": [
              "[1.5, 3.5, 2.5]"
            ]
          },
          "execution_count": 17,
          "metadata": {
            "tags": []
          },
          "output_type": "execute_result"
        }
      ],
      "source": [
        "add_half_on_clients([1.0, 3.0, 2.0])"
      ]
    },
    {
      "cell_type": "markdown",
      "metadata": {
        "colab_type": "text",
        "id": "yuUOSG-9kK8J"
      },
      "source": [
        "Keep in mind that what we said in the preceding section about TFF computations\n",
        "getting serialized at the definition time remains true as well. The only\n",
        "difference between Python methods decorated with `tff.federated_computation` and\n",
        "those decorated with `tff.tf_computation` is that the latter are expected to\n",
        "contain TensorFlow code, and their bodies are serialized as TensorFlow graphs\n",
        "(whereas the former are not allowed to contain TensorFlow code directly embedded\n",
        "in them). Under the hood, each method decorated with `tff.tf_computation`\n",
        "executes against its own instance of an empty `tf.Graph`. You can welcome to use\n",
        "eager TensorFlow, AutoGraph, TensorFlow 2.0 constructs, etc., so long as the\n",
        "logic of your computation can get correctly captured as a part of this local\n",
        "graph instance, and correctly serialized unpon existing the wrapped method's\n",
        "body.\n",
        "\n",
        "In particular, `tff.tf_computation` allows you to work with `tf.data.Dataset`s,\n",
        "including abstractly-defined data sets that you can declare as a formal\n",
        "parameter. The support for this is still somewhat limited, but functional in\n",
        "simple scenarios such as those used in this tutorial.\n",
        "\n",
        "For example, suppose that in our temperature sensor example, each sensor holds\n",
        "not just one temperature reading, but multiple. Here's how you can define a TFF\n",
        "computation in TensorFlow that calculates the average of temperatures in a\n",
        "single local data set using the `tf.data.Dataset.reduce` operator."
      ]
    },
    {
      "cell_type": "code",
      "execution_count": 0,
      "metadata": {
        "colab": {},
        "colab_type": "code",
        "id": "cw0nen-D0Ks8"
      },
      "outputs": [],
      "source": [
        "@tff.tf_computation(tff.SequenceType(tf.float32))\n",
        "def get_local_temperature_average(local_temperatures):\n",
        "  sum_and_count = (\n",
        "      local_temperatures.reduce((0.0, 0), lambda x, y: (x[0] + y, x[1] + 1)))\n",
        "  return sum_and_count[0] / tf.to_float(sum_and_count[1])"
      ]
    },
    {
      "cell_type": "markdown",
      "metadata": {
        "colab_type": "text",
        "id": "0_wjdoS51cey"
      },
      "source": [
        "The type specification `tff.SequenceType(tf.float32)` defines an abstract\n",
        "sequence of float elements in TFF. Sequences can contain either tensors, or\n",
        "complex nested structures (we'll see examples of those later). The concise\n",
        "representation of a sequence of `T`-typed items is `T*`."
      ]
    },
    {
      "cell_type": "code",
      "execution_count": 19,
      "metadata": {
        "colab": {
          "height": 34
        },
        "colab_type": "code",
        "executionInfo": {
          "elapsed": 56,
          "status": "ok",
          "timestamp": 1549575771843,
          "user": {
            "displayName": "",
            "photoUrl": "",
            "userId": ""
          },
          "user_tz": 480
        },
        "id": "H6Yb5WN_2MFa",
        "outputId": "fbdc0016-289a-4463-afef-8fd26575ca41"
      },
      "outputs": [
        {
          "data": {
            "text/plain": [
              "'float32*'"
            ]
          },
          "execution_count": 19,
          "metadata": {
            "tags": []
          },
          "output_type": "execute_result"
        }
      ],
      "source": [
        "str(tff.SequenceType(tf.float32))"
      ]
    },
    {
      "cell_type": "code",
      "execution_count": 20,
      "metadata": {
        "colab": {
          "height": 34
        },
        "colab_type": "code",
        "executionInfo": {
          "elapsed": 59,
          "status": "ok",
          "timestamp": 1549575771945,
          "user": {
            "displayName": "",
            "photoUrl": "",
            "userId": ""
          },
          "user_tz": 480
        },
        "id": "wT0V9sJlyqKE",
        "outputId": "f50dc343-e4f0-4899-e010-a4fae5bbc58e"
      },
      "outputs": [
        {
          "data": {
            "text/plain": [
              "'(float32* -\u003e float32)'"
            ]
          },
          "execution_count": 20,
          "metadata": {
            "tags": []
          },
          "output_type": "execute_result"
        }
      ],
      "source": [
        "str(get_local_temperature_average.type_signature)"
      ]
    },
    {
      "cell_type": "markdown",
      "metadata": {
        "colab_type": "text",
        "id": "olZkwEVl2ORH"
      },
      "source": [
        "In the body of a method decorated with `tff.tf_computation`, formal parameters\n",
        "of a TFF sequence type are represented simply as instances of `tf.data.Dataset`.\n",
        "You can easily verify this as follows."
      ]
    },
    {
      "cell_type": "code",
      "execution_count": 21,
      "metadata": {
        "colab": {
          "height": 34
        },
        "colab_type": "code",
        "executionInfo": {
          "elapsed": 29,
          "status": "ok",
          "timestamp": 1549575772049,
          "user": {
            "displayName": "",
            "photoUrl": "",
            "userId": ""
          },
          "user_tz": 480
        },
        "id": "_W2tBQxz2wmV",
        "outputId": "2d7a659b-6082-4354-df9c-d338095aebef"
      },
      "outputs": [
        {
          "name": "stdout",
          "output_type": "stream",
          "text": [
            "True\n"
          ]
        }
      ],
      "source": [
        "@tff.tf_computation(tff.SequenceType(tf.float32))\n",
        "def _(x):\n",
        "  print (isinstance(x, tf.data.Dataset))\n",
        "  return 0  # Computations must return something, so just return a dummy value."
      ]
    },
    {
      "cell_type": "markdown",
      "metadata": {
        "colab_type": "text",
        "id": "k1N5mbpF2tEI"
      },
      "source": [
        "Keep in mind that these data sets are constructed from placeholders. They don't\n",
        "contain any elements, since they represent abstract parameters, to be bound to\n",
        "concrete data when used in a concrete context. This introduces some limitations,\n",
        "but we won't need to worry about it in this tutorial.\n",
        "\n",
        "When locally executing a computation that accepts a sequence in a simulation\n",
        "mode, such as in this tutorial, you can feed the sequence as Python list, as\n",
        "below (as well as in other ways, e.g., as a `tf.data.Dataset` in eager mode, but\n",
        "for now, we'll keep it simple)."
      ]
    },
    {
      "cell_type": "code",
      "execution_count": 22,
      "metadata": {
        "colab": {
          "height": 34
        },
        "colab_type": "code",
        "executionInfo": {
          "elapsed": 124,
          "status": "ok",
          "timestamp": 1549575772257,
          "user": {
            "displayName": "",
            "photoUrl": "",
            "userId": ""
          },
          "user_tz": 480
        },
        "id": "JyNIc79DyuKK",
        "outputId": "6cd0f7c7-c712-4e4e-80df-f7c741c419cd"
      },
      "outputs": [
        {
          "data": {
            "text/plain": [
              "69.533333"
            ]
          },
          "execution_count": 22,
          "metadata": {
            "tags": []
          },
          "output_type": "execute_result"
        }
      ],
      "source": [
        "get_local_temperature_average([68.5, 70.3, 69.8])"
      ]
    },
    {
      "cell_type": "markdown",
      "metadata": {
        "colab_type": "text",
        "id": "Whd5_olh4hxH"
      },
      "source": [
        "Now, let's try again to use our TensorFlow computation in a federated setting.\n",
        "Suppose we have a group of sensors that each have a local sequence of\n",
        "temperature readings. We can compute the global temperature average by averaging\n",
        "the sensors' local averages as follows."
      ]
    },
    {
      "cell_type": "code",
      "execution_count": 0,
      "metadata": {
        "colab": {},
        "colab_type": "code",
        "id": "hZIE1kl340at"
      },
      "outputs": [],
      "source": [
        "@tff.federated_computation(\n",
        "    tff.FederatedType(tff.SequenceType(tf.float32), tff.CLIENTS))\n",
        "def get_global_temperature_average(sensor_readings):\n",
        "  return tff.federated_average(\n",
        "      tff.federated_map(get_local_temperature_average, sensor_readings))"
      ]
    },
    {
      "cell_type": "markdown",
      "metadata": {
        "colab_type": "text",
        "id": "RfC3LePY5pUX"
      },
      "source": [
        "Note that this isn't a simple average across all local temperature readings from\n",
        "all clients, as that would require weighing contributions from different clients\n",
        "by the number of readings they locally maintain. We leave it as an exercise for\n",
        "the reader to update the above code; the `tff.federated_average` operator\n",
        "accepts the weight as an optional second argument (expected to be a federated\n",
        "float).\n",
        "\n",
        "Also note that the input to `get_global_temperature_average` now becomes a\n",
        "*federated int sequence*. Federated sequences is how we will typically represent\n",
        "on-device data in federated learning, with sequence elements typically\n",
        "representing data batches (you will see examples of this shortly)."
      ]
    },
    {
      "cell_type": "code",
      "execution_count": 24,
      "metadata": {
        "colab": {
          "height": 34
        },
        "colab_type": "code",
        "executionInfo": {
          "elapsed": 16,
          "status": "ok",
          "timestamp": 1549575772442,
          "user": {
            "displayName": "",
            "photoUrl": "",
            "userId": ""
          },
          "user_tz": 480
        },
        "id": "SL8-jcqo5krW",
        "outputId": "6381aed5-83e7-4eba-e2d6-39c9eb093f8b"
      },
      "outputs": [
        {
          "data": {
            "text/plain": [
              "'({float32*}@CLIENTS -\u003e float32@SERVER)'"
            ]
          },
          "execution_count": 24,
          "metadata": {
            "tags": []
          },
          "output_type": "execute_result"
        }
      ],
      "source": [
        "str(get_global_temperature_average.type_signature)"
      ]
    },
    {
      "cell_type": "markdown",
      "metadata": {
        "colab_type": "text",
        "id": "RNeQOXA36F4P"
      },
      "source": [
        "Here's how we can locally execute the computation on a sample of data in Python.\n",
        "Notice that the way we supply the input is now as a `list` of `list`s. The outer\n",
        "list iterates over the devices in the group represented by `tff.CLIENTS`, and\n",
        "the inner ones iterate over elements in each device's local sequence."
      ]
    },
    {
      "cell_type": "code",
      "execution_count": 25,
      "metadata": {
        "colab": {
          "height": 34
        },
        "colab_type": "code",
        "executionInfo": {
          "elapsed": 326,
          "status": "ok",
          "timestamp": 1549575772864,
          "user": {
            "displayName": "",
            "photoUrl": "",
            "userId": ""
          },
          "user_tz": 480
        },
        "id": "vMzuaF5p6fDJ",
        "outputId": "7d997083-00bd-4ea4-84c5-f1f89a318ad8"
      },
      "outputs": [
        {
          "data": {
            "text/plain": [
              "70.0"
            ]
          },
          "execution_count": 25,
          "metadata": {
            "tags": []
          },
          "output_type": "execute_result"
        }
      ],
      "source": [
        "get_global_temperature_average([[68.0, 70.0], [71.0], [68.0, 72.0, 70.0]])"
      ]
    },
    {
      "cell_type": "markdown",
      "metadata": {
        "colab_type": "text",
        "id": "iu5Gd8D6W33s"
      },
      "source": [
        "## Federated averaging\n",
        "\n",
        "Now, let's use what we've learned so far to implement a simple version of\n",
        "federated averaging. For symmetry with\n",
        "[Federated Learning for Image Classification](federated_learning_for_image_classification.md),\n",
        "we are going to use the MNIST example, but since this is intended as a low-level\n",
        "tutorial, we are going to bypass the Keras API and `tff.simulation`, write raw\n",
        "model code, and construct a federated data set from scratch.\n",
        "\n",
        "### Preparing federated data sets\n",
        "\n",
        "For the sake of a demonstration, we're going to simulate a scenario in which we\n",
        "have data from 10 users, and each of the users contributes knowledge how to\n",
        "recognize a different digit.\n",
        "\n",
        "First, let's load the standard MNIST data from the TensorFlow website."
      ]
    },
    {
      "cell_type": "code",
      "execution_count": 0,
      "metadata": {
        "colab": {},
        "colab_type": "code",
        "id": "uThZM4Ds-KDQ"
      },
      "outputs": [],
      "source": [
        "#@test {\"output\": \"ignore\"}\n",
        "mnist_train, mnist_test = tf.keras.datasets.mnist.load_data()"
      ]
    },
    {
      "cell_type": "code",
      "execution_count": 27,
      "metadata": {
        "colab": {
          "height": 34
        },
        "colab_type": "code",
        "executionInfo": {
          "elapsed": 15,
          "status": "ok",
          "timestamp": 1549575773229,
          "user": {
            "displayName": "",
            "photoUrl": "",
            "userId": ""
          },
          "user_tz": 480
        },
        "id": "PkJc5rHA2no_",
        "outputId": "92ca32e6-b14b-438d-acf5-d7295522dfa4"
      },
      "outputs": [
        {
          "data": {
            "text/plain": [
              "[(dtype('uint8'), (60000, 28, 28)), (dtype('uint8'), (60000,))]"
            ]
          },
          "execution_count": 27,
          "metadata": {
            "tags": []
          },
          "output_type": "execute_result"
        }
      ],
      "source": [
        "[(x.dtype, x.shape) for x in mnist_train]"
      ]
    },
    {
      "cell_type": "markdown",
      "metadata": {
        "colab_type": "text",
        "id": "mFET4BKJFbkP"
      },
      "source": [
        "The data comes as Numpy arrays, one with images and another with digits, both\n",
        "with the first dimension going over the individual examples. Let's write a\n",
        "helper function that formats it in a way compatible with how we feed federated\n",
        "sequences into TFF computations, i.e., as a list of lists - the outer list\n",
        "ranging over the users (digits), the inner ones ranging over batches of data in\n",
        "each client's sequence. As is customary, we will structure each batch as a pair\n",
        "of tensors named `X` and `Y`, each with the leading batch dimension. While at\n",
        "it, we'll also flatten each image into a 784-element vector and rescale the\n",
        "pixels in it into the `0..1` range."
      ]
    },
    {
      "cell_type": "code",
      "execution_count": 0,
      "metadata": {
        "colab": {},
        "colab_type": "code",
        "id": "XTaTLiq5GNqy"
      },
      "outputs": [],
      "source": [
        "BATCH_SIZE = 100\n",
        "\n",
        "def get_data_for_digit(source, digit):\n",
        "  output_sequence = []\n",
        "  all_samples = [i for i, d in enumerate(source[1]) if d == digit]\n",
        "  for i in range(0, len(all_samples), BATCH_SIZE):\n",
        "    batch_samples = all_samples[i:i + BATCH_SIZE]\n",
        "    output_sequence.append({\n",
        "        'x': np.array([source[0][i].flatten() / 255.0 for i in batch_samples],\n",
        "                      dtype=np.float32),\n",
        "        'y': np.array([source[1][i] for i in batch_samples], dtype=np.int32)})\n",
        "  return output_sequence\n",
        "\n",
        "federated_train_data = [get_data_for_digit(mnist_train, d) for d in xrange(10)]\n",
        "\n",
        "federated_test_data = [get_data_for_digit(mnist_test, d) for d in xrange(10)]"
      ]
    },
    {
      "cell_type": "markdown",
      "metadata": {
        "colab_type": "text",
        "id": "xpNdBimWaMHD"
      },
      "source": [
        "As a quick sanity check, let's look at the `Y` tensor in the last batch of data\n",
        "contributed by the fifth client (the one corresponding to the digit `5`)."
      ]
    },
    {
      "cell_type": "code",
      "execution_count": 29,
      "metadata": {
        "colab": {
          "height": 34
        },
        "colab_type": "code",
        "executionInfo": {
          "elapsed": 16,
          "status": "ok",
          "timestamp": 1549575776188,
          "user": {
            "displayName": "",
            "photoUrl": "",
            "userId": ""
          },
          "user_tz": 480
        },
        "id": "bTNuL1W4bcuc",
        "outputId": "98e7bb5b-945f-4a4c-de1f-ef4b7cd11b2e"
      },
      "outputs": [
        {
          "data": {
            "text/plain": [
              "array([5, 5, 5, 5, 5, 5, 5, 5, 5, 5, 5, 5, 5, 5, 5, 5, 5, 5, 5, 5, 5], dtype=int32)"
            ]
          },
          "execution_count": 29,
          "metadata": {
            "tags": []
          },
          "output_type": "execute_result"
        }
      ],
      "source": [
        "federated_train_data[5][-1]['y']"
      ]
    },
    {
      "cell_type": "markdown",
      "metadata": {
        "colab_type": "text",
        "id": "Xgvcwv7Obhat"
      },
      "source": [
        "Just to be sure, let's also look at the image corresponding to the last element of that batch."
      ]
    },
    {
      "cell_type": "code",
      "execution_count": 30,
      "metadata": {
        "colab": {
          "height": 292
        },
        "colab_type": "code",
        "executionInfo": {
          "elapsed": 205,
          "status": "ok",
          "timestamp": 1549575776428,
          "user": {
            "displayName": "",
            "photoUrl": "",
            "userId": ""
          },
          "user_tz": 480
        },
        "id": "cI4aat1za525",
        "outputId": "addcc8b8-b95d-4a6d-82c2-6fc07c7b6883"
      },
      "outputs": [
        {
          "data": {
            "text/plain": [
              "\u003cmatplotlib.image.AxesImage at 0xe028ad0\u003e"
            ]
          },
          "execution_count": 30,
          "metadata": {
            "tags": []
          },
          "output_type": "execute_result"
        },
        {
          "data": {
            "image/png": "[encoded data removed]",
            "text/plain": [
              "\u003cmatplotlib.figure.Figure at 0xdf1a590\u003e"
            ]
          },
          "metadata": {
            "tags": []
          },
          "output_type": "display_data"
        }
      ],
      "source": [
        "#@test {\"output\": \"ignore\"}\n",
        "from matplotlib import pyplot as plt\n",
        "\n",
        "plt.imshow(federated_train_data[5][-1]['x'][-1].reshape(28, 28), cmap='gray')"
      ]
    },
    {
      "cell_type": "markdown",
      "metadata": {
        "colab_type": "text",
        "id": "RSd6UatXbzw-"
      },
      "source": [
        "### Defining a loss function\n",
        "\n",
        "Now that we have the data, let's define a loss function that we can use for\n",
        "training. First, let's define the type of input as a TFF named tuple. Since the\n",
        "size of data batches may vary, we set the batch dimension to `None` to indicate\n",
        "that it the size of this dimension is unknown."
      ]
    },
    {
      "cell_type": "code",
      "execution_count": 31,
      "metadata": {
        "colab": {
          "height": 34
        },
        "colab_type": "code",
        "executionInfo": {
          "elapsed": 21,
          "status": "ok",
          "timestamp": 1549575776475,
          "user": {
            "displayName": "",
            "photoUrl": "",
            "userId": ""
          },
          "user_tz": 480
        },
        "id": "653xv5NXd4fy",
        "outputId": "68a9cd3c-4b08-4c1a-818e-56dc83b2f7e0"
      },
      "outputs": [
        {
          "data": {
            "text/plain": [
              "'\u003cx=float32[?,784],y=int32[?]\u003e'"
            ]
          },
          "execution_count": 31,
          "metadata": {
            "tags": []
          },
          "output_type": "execute_result"
        }
      ],
      "source": [
        "BATCH_TYPE = tff.NamedTupleType([\n",
        "    ('x', tff.TensorType(tf.float32, [None, 784])),\n",
        "    ('y', tff.TensorType(tf.int32, [None]))])\n",
        "\n",
        "str(BATCH_TYPE)"
      ]
    },
    {
      "cell_type": "markdown",
      "metadata": {
        "colab_type": "text",
        "id": "pb6qPUvyh5A1"
      },
      "source": [
        "Let's also define the model parameters as a TFF named tuple."
      ]
    },
    {
      "cell_type": "code",
      "execution_count": 32,
      "metadata": {
        "colab": {
          "height": 34
        },
        "colab_type": "code",
        "executionInfo": {
          "elapsed": 13,
          "status": "ok",
          "timestamp": 1549575776523,
          "user": {
            "displayName": "",
            "photoUrl": "",
            "userId": ""
          },
          "user_tz": 480
        },
        "id": "Og7VViafh-30",
        "outputId": "fc912c0b-2bd2-470d-b876-7ef486e9f37c"
      },
      "outputs": [
        {
          "data": {
            "text/plain": [
              "'\u003cweights=float32[784,10],bias=float32[10]\u003e'"
            ]
          },
          "execution_count": 32,
          "metadata": {
            "tags": []
          },
          "output_type": "execute_result"
        }
      ],
      "source": [
        "MODEL_TYPE = tff.NamedTupleType([\n",
        "    ('weights', tff.TensorType(tf.float32, [784, 10])),\n",
        "    ('bias', tff.TensorType(tf.float32, [10]))])\n",
        "\n",
        "str(MODEL_TYPE)"
      ]
    },
    {
      "cell_type": "markdown",
      "metadata": {
        "colab_type": "text",
        "id": "iHhdaWSpfQxo"
      },
      "source": [
        "With those definitions in place, now we can define loss for a given model, over\n",
        "a single batch."
      ]
    },
    {
      "cell_type": "code",
      "execution_count": 0,
      "metadata": {
        "colab": {},
        "colab_type": "code",
        "id": "4EObiz_Ke0uK"
      },
      "outputs": [],
      "source": [
        "@tff.tf_computation(MODEL_TYPE, BATCH_TYPE)\n",
        "def batch_loss(model, batch):\n",
        "  predicted_y = tf.nn.softmax(tf.matmul(batch.x, model.weights) + model.bias)\n",
        "  return -tf.reduce_mean(tf.reduce_sum(\n",
        "      tf.one_hot(batch.y, 10) * tf.log(predicted_y), reduction_indices=[1]))"
      ]
    },
    {
      "cell_type": "markdown",
      "metadata": {
        "colab_type": "text",
        "id": "_DVytYGmnfp5"
      },
      "source": [
        "As expected, computation `batch_loss` returns `float32` loss given the model and\n",
        "a single data batch."
      ]
    },
    {
      "cell_type": "code",
      "execution_count": 34,
      "metadata": {
        "colab": {
          "height": 34
        },
        "colab_type": "code",
        "executionInfo": {
          "elapsed": 10,
          "status": "ok",
          "timestamp": 1549575776670,
          "user": {
            "displayName": "",
            "photoUrl": "",
            "userId": ""
          },
          "user_tz": 480
        },
        "id": "ZGU8HboKndAW",
        "outputId": "98032c7b-c9d2-4501-eae3-87217bd00b5d"
      },
      "outputs": [
        {
          "data": {
            "text/plain": [
              "'(\u003c\u003cweights=float32[784,10],bias=float32[10]\u003e,\u003cx=float32[?,784],y=int32[?]\u003e\u003e -\u003e float32)'"
            ]
          },
          "execution_count": 34,
          "metadata": {
            "tags": []
          },
          "output_type": "execute_result"
        }
      ],
      "source": [
        "str(batch_loss.type_signature)"
      ]
    },
    {
      "cell_type": "markdown",
      "metadata": {
        "colab_type": "text",
        "id": "pAnt_UcdnvGa"
      },
      "source": [
        "As a sanity check, let's construct an initial model filled with zeros and\n",
        "compute the loss over the batch of data we visualized above."
      ]
    },
    {
      "cell_type": "code",
      "execution_count": 35,
      "metadata": {
        "colab": {
          "height": 34
        },
        "colab_type": "code",
        "executionInfo": {
          "elapsed": 195,
          "status": "ok",
          "timestamp": 1549575776929,
          "user": {
            "displayName": "",
            "photoUrl": "",
            "userId": ""
          },
          "user_tz": 480
        },
        "id": "U8Ne8igan3os",
        "outputId": "49bae7bc-697c-4598-9a4f-3ca9090e70dc"
      },
      "outputs": [
        {
          "data": {
            "text/plain": [
              "2.3025851"
            ]
          },
          "execution_count": 35,
          "metadata": {
            "tags": []
          },
          "output_type": "execute_result"
        }
      ],
      "source": [
        "initial_model = {\n",
        "    'weights': np.zeros([784, 10], dtype=np.float32),\n",
        "    'bias': np.zeros([10], dtype=np.float32)\n",
        "}\n",
        "\n",
        "sample_batch = federated_train_data[5][-1]\n",
        "\n",
        "batch_loss(initial_model, sample_batch)"
      ]
    },
    {
      "cell_type": "markdown",
      "metadata": {
        "colab_type": "text",
        "id": "ckigEAyDAWFV"
      },
      "source": [
        "Now, let's define a computation that uses this loss function to perform a single\n",
        "step of gradient descent. Note how in defining this function, we use\n",
        "`batch_loss` a component. You can always invoke a computation constructed with\n",
        "`tff.tf_computation` inside the body of another computation."
      ]
    },
    {
      "cell_type": "code",
      "execution_count": 0,
      "metadata": {
        "colab": {},
        "colab_type": "code",
        "id": "O4uaVxw3AyYS"
      },
      "outputs": [],
      "source": [
        "@tff.tf_computation(MODEL_TYPE, BATCH_TYPE)\n",
        "def batch_train(initial_model, batch):\n",
        "  # Define a group of model variables and set them to `initial_model`.\n",
        "  model_vars = tff.utils.get_variables('v', MODEL_TYPE)\n",
        "  init_model = tff.utils.assign(model_vars, initial_model)\n",
        "\n",
        "  # Perform one step of gradient descent using loss from `batch_loss`.\n",
        "  optimizer = tf.train.GradientDescentOptimizer(0.01)\n",
        "  with tf.control_dependencies([init_model]):\n",
        "    train_model = optimizer.minimize(batch_loss(model_vars, batch))\n",
        "\n",
        "  # Return the model vars after performing this gradient descent step.\n",
        "  with tf.control_dependencies([train_model]):\n",
        "    return tff.utils.identity(model_vars)"
      ]
    },
    {
      "cell_type": "code",
      "execution_count": 37,
      "metadata": {
        "colab": {
          "height": 34
        },
        "colab_type": "code",
        "executionInfo": {
          "elapsed": 12,
          "status": "ok",
          "timestamp": 1549575777178,
          "user": {
            "displayName": "",
            "photoUrl": "",
            "userId": ""
          },
          "user_tz": 480
        },
        "id": "Y84gQsaohC38",
        "outputId": "30c5dca0-9a94-430f-8941-1bfd586f3482"
      },
      "outputs": [
        {
          "data": {
            "text/plain": [
              "'(\u003c\u003cweights=float32[784,10],bias=float32[10]\u003e,\u003cx=float32[?,784],y=int32[?]\u003e\u003e -\u003e \u003cweights=float32[784,10],bias=float32[10]\u003e)'"
            ]
          },
          "execution_count": 37,
          "metadata": {
            "tags": []
          },
          "output_type": "execute_result"
        }
      ],
      "source": [
        "str(batch_train.type_signature)"
      ]
    },
    {
      "cell_type": "markdown",
      "metadata": {
        "colab_type": "text",
        "id": "ID8xg9FCUL2A"
      },
      "source": [
        "Let's apply this function a few times to the initial model to see whether the\n",
        "loss decreases."
      ]
    },
    {
      "cell_type": "code",
      "execution_count": 0,
      "metadata": {
        "colab": {},
        "colab_type": "code",
        "id": "8edcJTlXUULm"
      },
      "outputs": [],
      "source": [
        "model = initial_model\n",
        "losses = []\n",
        "for _ in xrange(10):\n",
        "  model = batch_train(model, sample_batch)\n",
        "  losses.append(batch_loss(model, sample_batch))"
      ]
    },
    {
      "cell_type": "code",
      "execution_count": 39,
      "metadata": {
        "colab": {
          "height": 192
        },
        "colab_type": "code",
        "executionInfo": {
          "elapsed": 13,
          "status": "ok",
          "timestamp": 1549575779898,
          "user": {
            "displayName": "",
            "photoUrl": "",
            "userId": ""
          },
          "user_tz": 480
        },
        "id": "3n1onojT1zHv",
        "outputId": "55cccb8b-0f15-4bc9-c083-cdb8589de17c"
      },
      "outputs": [
        {
          "data": {
            "text/plain": [
              "[1.9215734,\n",
              " 1.5863497,\n",
              " 1.305056,\n",
              " 1.0791202,\n",
              " 0.90296584,\n",
              " 0.76719612,\n",
              " 0.66217637,\n",
              " 0.57991415,\n",
              " 0.5144133,\n",
              " 0.46136084]"
            ]
          },
          "execution_count": 39,
          "metadata": {
            "tags": []
          },
          "output_type": "execute_result"
        }
      ],
      "source": [
        "#@test {\"output\": \"ignore\"}\n",
        "losses"
      ]
    },
    {
      "cell_type": "markdown",
      "metadata": {
        "colab_type": "text",
        "id": "EQk4Ha8PU-3P"
      },
      "source": [
        "Now, since `batch_train` appears to work, let's write a similar training\n",
        "function `local_train` that consumes the entire sequence of all batches from one\n",
        "user instead of just a single batch. The new computation will need to now\n",
        "consume `tff.SequenceType(BATCH_TYPE)` instead of `BATCH_TYPE`.\n",
        "\n",
        "One way to process this sequence could be, to use `tf.data.Dataset.reduce`\n",
        "similarly to how we've used it earlier. But, we can also use a federated\n",
        "operator `tff.sequence_reduce` to make it more concise.\n",
        "\n",
        "We can also use `batch_train` as a component in it, similarly to how we've used\n",
        "`batch_loss` as a component in `batch_train`."
      ]
    },
    {
      "cell_type": "code",
      "execution_count": 0,
      "metadata": {
        "colab": {},
        "colab_type": "code",
        "id": "EfPD5a6QVNXM"
      },
      "outputs": [],
      "source": [
        "@tff.federated_computation(MODEL_TYPE, tff.SequenceType(BATCH_TYPE))\n",
        "def local_train(initial_model, all_batches):\n",
        "  return tff.sequence_reduce(all_batches, initial_model, batch_train)"
      ]
    },
    {
      "cell_type": "code",
      "execution_count": 41,
      "metadata": {
        "colab": {
          "height": 34
        },
        "colab_type": "code",
        "executionInfo": {
          "elapsed": 12,
          "status": "ok",
          "timestamp": 1549575780052,
          "user": {
            "displayName": "",
            "photoUrl": "",
            "userId": ""
          },
          "user_tz": 480
        },
        "id": "sAhkS5yKUgjC",
        "outputId": "ca433031-5850-40e2-d770-719e16a6ea66"
      },
      "outputs": [
        {
          "data": {
            "text/plain": [
              "'(\u003c\u003cweights=float32[784,10],bias=float32[10]\u003e,\u003cx=float32[?,784],y=int32[?]\u003e*\u003e -\u003e \u003cweights=float32[784,10],bias=float32[10]\u003e)'"
            ]
          },
          "execution_count": 41,
          "metadata": {
            "tags": []
          },
          "output_type": "execute_result"
        }
      ],
      "source": [
        "str(local_train.type_signature)"
      ]
    },
    {
      "cell_type": "markdown",
      "metadata": {
        "colab_type": "text",
        "id": "EYT-SiopYBtH"
      },
      "source": [
        "Let's try the newly defined local training function on the entire sequence of\n",
        "data from the same user who contributed the sample batch (digit `5`)."
      ]
    },
    {
      "cell_type": "code",
      "execution_count": 0,
      "metadata": {
        "colab": {},
        "colab_type": "code",
        "id": "EnWFLoZGcSby"
      },
      "outputs": [],
      "source": [
        "trained_model = local_train(initial_model, federated_train_data[5])"
      ]
    },
    {
      "cell_type": "markdown",
      "metadata": {
        "colab_type": "text",
        "id": "tSMzTDcMYzna"
      },
      "source": [
        "(to be continued)"
      ]
    }
  ],
  "metadata": {
    "colab": {
      "collapsed_sections": [],
      "last_runtime": {
        "build_target": "",
        "kind": "local"
      },
      "name": "Custom Federated Algorithms with the Federated Core API",
      "provenance": [
        {
          "file_id": "1FuV5nQFsa54XJSahUG0RwZpPGQzdTz_D",
          "timestamp": 1547078723514
        }
      ],
      "version": "0.3.2"
    },
    "kernelspec": {
      "display_name": "Python 2",
      "name": "python2"
    }
  },
  "nbformat": 4,
  "nbformat_minor": 0
}
