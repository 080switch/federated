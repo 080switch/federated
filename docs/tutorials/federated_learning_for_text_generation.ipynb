{
  "cells": [
    {
      "cell_type": "markdown",
      "metadata": {
        "colab_type": "text",
        "id": "x44FFES-r6y0"
      },
      "source": [
        "# Federated Learning for Text Generation"
      ]
    },
    {
      "cell_type": "markdown",
      "metadata": {
        "colab_type": "text",
        "id": "KbNz2tuvsAFB"
      },
      "source": [
        "This tutorial builds on the MNIST one, and uses the Shakespeare data set. It does not require discussing any new concepts as they've all already been introduced."
      ]
    }
  ],
  "metadata": {
    "colab": {
      "collapsed_sections": [],
      "name": "Federated Learning for Text Generation",
      "provenance": [
        {
          "file_id": "1H0UAX4si3f9igucGfmmH6-l2nDWJo6Se",
          "timestamp": 1547760001921
        }
      ],
      "version": "0.3.2"
    },
    "kernelspec": {
      "display_name": "Python 2",
      "name": "python2"
    }
  },
  "nbformat": 4,
  "nbformat_minor": 0
}
