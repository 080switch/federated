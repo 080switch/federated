{
  "cells": [
    {
      "cell_type": "markdown",
      "metadata": {
        "colab_type": "text",
        "id": "x44FFES-r6y0"
      },
      "source": [
        "# Federated Learning for Text Generation"
      ]
    },
    {
      "cell_type": "markdown",
      "metadata": {
        "colab_type": "text",
        "id": "KbNz2tuvsAFB"
      },
      "source": [
        "This tutorial builds on the concepts in the [Federated Learning for Image Classification](federated_learning_for_image_classification.md) tutorial, and demonstrates several other useful approaches for federated learning.\n",
        "\n",
        "In particular, we load a previously trained Keras model, and refine it using  federated training on a (simulated) decentralized dataset. This is practically important for several reasons . The ability to use serialized models makes it easy to mix federated learning with other ML approaches. Further, this allows use of an increasing range of pre-trained models --- for example, training language models from scratch is rarely necessary, as numerous pre-trained models are now widely available (see, e.g., [TF Hub](https://www.tensorflow.org/hub)). Instead, it makes more sense to start from a pre-trained model, and refine it using Federated Learning, adapting to the particular characteristics of the decentralized data for a particular application.\n",
        "\n",
        "For this tutorial, we start with a RNN that generates ASCII characters, and refine it via federated learning. We also show how the final weights can be fed back to the original Keras model, allowing easy evaluation and text generation using standard tools."
      ]
    },
    {
      "cell_type": "code",
      "execution_count": 1,
      "metadata": {
        "colab": {
          "height": 34
        },
        "colab_type": "code",
        "executionInfo": {
          "elapsed": 9826,
          "status": "ok",
          "timestamp": 1550368774068,
          "user": {
            "displayName": "",
            "photoUrl": "",
            "userId": ""
          },
          "user_tz": 480
        },
        "id": "ZjDQysatrc2S",
        "outputId": "28ae415a-485c-4516-921b-eb43e014f7d7"
      },
      "outputs": [
        {
          "data": {
            "text/plain": [
              "'Hello, World!'"
            ]
          },
          "execution_count": 1,
          "metadata": {
            "tags": []
          },
          "output_type": "execute_result"
        }
      ],
      "source": [
        "from __future__ import absolute_import\n",
        "from __future__ import division\n",
        "from __future__ import print_function\n",
        "\n",
        "\n",
        "import collections\n",
        "import functools\n",
        "import numpy as np\n",
        "import os\n",
        "import tensorflow as tf\n",
        "import time\n",
        "\n",
        "from tensorflow_federated import python as tff\n",
        "\n",
        "nest = tf.contrib.framework.nest\n",
        "\n",
        "tf.compat.v1.enable_v2_behavior()\n",
        "\n",
        "np.random.seed(0)\n",
        "\n",
        "# Test the TFF is working:\n",
        "tff.federated_computation(lambda: 'Hello, World!')()"
      ]
    },
    {
      "cell_type": "markdown",
      "metadata": {
        "colab_type": "text",
        "id": "lyICXwVAxvW9"
      },
      "source": [
        "# Load a pre-trained model\n",
        "\n",
        "We load a model that was pre-trained following the TensorFlow tutorial\n",
        "[Text generation using a RNN with eager execution](https://www.tensorflow.org/tutorials/sequences/text_generation). However,\n",
        "rather than training on [The Complete Works of Shakespeare](http://www.gutenberg.org/files/100/100-0.txt), we pre-trained the model on the text from the Charles Dickens'\n",
        "    [A Tale of Two Cities](http://www.ibiblio.org/pub/docs/books/gutenberg/9/98/98.txt)\n",
        "    and\n",
        "    [A Christmas Carol](http://www.ibiblio.org/pub/docs/books/gutenberg/4/46/46.txt).\n",
        " \n",
        "Other than expanding the vocabularly, we didn't modify the original tutorial, so this initial model isn't state-of-the-art, but it produces reasonable predictions and is sufficient for our tutorial purposes. The final model was saved with `tf.keras.models.save_model(include_optimizer=False)`.\n",
        "   \n",
        " We will use federated learning to fine-tune this model for Shakespeare in this tutorial, using a federated version of the data provided by TFF.\n",
        "\n"
      ]
    },
    {
      "cell_type": "markdown",
      "metadata": {
        "colab_type": "text",
        "id": "XgF8e2Ksyq1F"
      },
      "source": [
        "## Generate the vocab lookup tables"
      ]
    },
    {
      "cell_type": "code",
      "execution_count": 0,
      "metadata": {
        "colab": {},
        "colab_type": "code",
        "id": "IlCgQBRVymwR"
      },
      "outputs": [],
      "source": [
        "# A fixed vocabularly of ASCII chars that occur in the works of Shakespeare and Dickens:\n",
        "vocab = list('dhlptx@DHLPTX $(,048cgkoswCGKOSW[_#\\'/37;?bfjnrvzBFJNRVZ\"\u0026*.26:\\naeimquyAEIMQUY]!%)-159\\r')\n",
        "\n",
        "# Creating a mapping from unique characters to indices\n",
        "char2idx = {u:i for i, u in enumerate(vocab)}\n",
        "idx2char = np.array(vocab)"
      ]
    },
    {
      "cell_type": "markdown",
      "metadata": {
        "colab_type": "text",
        "id": "2EH6MFRdzAwd"
      },
      "source": [
        "## Load the pre-trained model and generate some text"
      ]
    },
    {
      "cell_type": "code",
      "execution_count": 0,
      "metadata": {
        "colab": {},
        "colab_type": "code",
        "id": "iIK674SrtCTm"
      },
      "outputs": [],
      "source": [
        "def load_model(batch_size):\n",
        "  urls = {\n",
        "      1: 'https://storage.googleapis.com/tff-models-public/dickens_rnn.batch1.kerasmodel',\n",
        "      8: 'https://storage.googleapis.com/tff-models-public/dickens_rnn.batch8.kerasmodel'}\n",
        "  assert batch_size in urls, 'batch_size must be in ' + str(urls.keys())\n",
        "  url = urls[batch_size]\n",
        "  local_file = tf.keras.utils.get_file(os.path.basename(url), origin=url)  \n",
        "  return tf.keras.models.load_model(local_file, compile=False)"
      ]
    },
    {
      "cell_type": "code",
      "execution_count": 0,
      "metadata": {
        "colab": {},
        "colab_type": "code",
        "id": "WvuwZBX5Ogfd"
      },
      "outputs": [],
      "source": [
        "def generate_text(model, start_string):\n",
        "  # From https://www.tensorflow.org/tutorials/sequences/text_generation\n",
        "  num_generate = 200\n",
        "  input_eval = [char2idx[s] for s in start_string]\n",
        "  input_eval = tf.expand_dims(input_eval, 0)\n",
        "  text_generated = []\n",
        "  temperature = 1.0\n",
        "\n",
        "  model.reset_states()\n",
        "  for i in range(num_generate):\n",
        "    predictions = model(input_eval)\n",
        "    predictions = tf.squeeze(predictions, 0)\n",
        "    predictions = predictions / temperature\n",
        "    predicted_id = tf.multinomial(predictions, num_samples=1)[-1,0].numpy()      \n",
        "    input_eval = tf.expand_dims([predicted_id], 0)      \n",
        "    text_generated.append(idx2char[predicted_id])\n",
        "\n",
        "  return (start_string + ''.join(text_generated))"
      ]
    },
    {
      "cell_type": "code",
      "execution_count": 5,
      "metadata": {
        "colab": {
          "height": 86
        },
        "colab_type": "code",
        "executionInfo": {
          "elapsed": 2624,
          "status": "ok",
          "timestamp": 1550368777283,
          "user": {
            "displayName": "",
            "photoUrl": "",
            "userId": ""
          },
          "user_tz": 480
        },
        "id": "MGAdStJ5wDPV",
        "outputId": "b6fd8059-05ff-4627-ddcc-943dcea1466e"
      },
      "outputs": [
        {
          "name": "stdout",
          "output_type": "stream",
          "text": [
            "What of TensorFlow Federated, you ask? Shalwish poor ledge to\r\n",
            "answer, that when the changed the Doctor's fidst youth under the starlig between this wet\r\n",
            "over it, and it should be so. You, devot he is\r\n",
            "variety of certain cape for the sight\n"
          ]
        }
      ],
      "source": [
        "#@test {\"output\": \"ignore\", \"timeout\": 120}\n",
        "# Text generation requires a batch_size=1 model.\n",
        "keras_model_batch1 = load_model(batch_size=1)\n",
        "print(generate_text(keras_model_batch1, 'What of TensorFlow Federated, you ask? '))"
      ]
    },
    {
      "cell_type": "markdown",
      "metadata": {
        "colab_type": "text",
        "id": "kKMUn-TlgxuP"
      },
      "source": [
        "# Load and Preprocess the Federated Shakespeare Data\n",
        "\n",
        "The `tff.simulation.datasets` package provides a variety of datasets that are split into \"clients\", where each client corresponds to a dataset on a particular device that might participate in federated learning.\n",
        "\n",
        "These datasets provide realistic non-IID data distributions that replicate in simulation the challenges of training on real decentralized data. Some of the pre-processing of this data was done using tools from the [Leaf project](https://arxiv.org/abs/1812.01097) ([github](https://github.com/TalwalkarLab/leaf))."
      ]
    },
    {
      "cell_type": "code",
      "execution_count": 0,
      "metadata": {
        "colab": {},
        "colab_type": "code",
        "id": "di3nStTDg0qc"
      },
      "outputs": [],
      "source": [
        "#@test {\"output\": \"ignore\", \"timeout\": 120}\n",
        "train_data, test_data = tff.simulation.datasets.shakespeare.load_data()"
      ]
    },
    {
      "cell_type": "markdown",
      "metadata": {
        "colab_type": "text",
        "id": "_iiY65Vv4QNK"
      },
      "source": [
        "The datasets provided by `shakespeare.load_data()` consist of a sequence of\n",
        "string `Tensors`, one for each line spoken by a particular character in a\n",
        "Shakespeare play. The client keys consist of the name of the play joined with\n",
        "the name of the character, so for example `MUCH_ADO_ABOUT_NOTHING_OTHELLO` corresponds to the lines for the character Othello in the play *Much Ado About Nothing*. Note that in a real federated learning scenario\n",
        "clients are never identified or tracked by ids, but for simulation it is useful\n",
        "to work with keyed datasets.\n",
        "\n",
        "Here, for example, we can look at some data from King Lear:"
      ]
    },
    {
      "cell_type": "code",
      "execution_count": 7,
      "metadata": {
        "colab": {
          "height": 487
        },
        "colab_type": "code",
        "executionInfo": {
          "elapsed": 109,
          "status": "ok",
          "timestamp": 1550368777858,
          "user": {
            "displayName": "",
            "photoUrl": "",
            "userId": ""
          },
          "user_tz": 480
        },
        "id": "FEKiy1ntmmnk",
        "outputId": "269d70bf-7563-40c9-a6d2-cae08161fa26"
      },
      "outputs": [
        {
          "name": "stdout",
          "output_type": "stream",
          "text": [
            "tf.Tensor(\n",
            "Live regist'red upon our brazen tombs,\n",
            "And then grace us in the disgrace of death;\n",
            "When, spite of cormorant devouring Time,\n",
            "Th' endeavour of this present breath may buy\n",
            "That honour which shall bate his scythe's keen edge,\n",
            "And make us heirs of all eternity.\n",
            "Therefore, brave conquerors- for so you are\n",
            "That war against your own affections\n",
            "And the huge army of the world's desires-\n",
            "Our late edict shall strongly stand in force:\n",
            "Navarre shall be the wonder of the world;\n",
            "Our court shall be a little Academe,\n",
            "Still and contemplative in living art.\n",
            "You three, Berowne, Dumain, and Longaville,\n",
            "Have sworn for three years' term to live with me\n",
            "My fellow-scholars, and to keep those statutes\n",
            "That are recorded in this schedule here.\n",
            "Your oaths are pass'd; and now subscribe your names,\n",
            "That his own hand may strike his honour down\n",
            "That violates the smallest branch herein.\n",
            "If you are arm'd to do as sworn to do,\n",
            "Subscribe to your deep oaths, and keep it too.\n",
            "Your oath is pass'd to pass away from these., shape=(), dtype=string)\n",
            "tf.Tensor(\n",
            "this?\n",
            "Did you hear the proclamation?, shape=(), dtype=string)\n"
          ]
        }
      ],
      "source": [
        "# Here the play is \"The Tragedy of King Lear\" and the character is \"King\".\n",
        "raw_example_dataset = train_data.create_tf_dataset_for_client(\n",
        "    'THE_TRAGEDY_OF_KING_LEAR_KING')\n",
        "# To allow for future extensions, each entry x\n",
        "# is an OrderedDict with a single key 'snippets' which contains the text.\n",
        "for x in raw_example_dataset.take(2):\n",
        "  print(x['snippets'])"
      ]
    },
    {
      "cell_type": "markdown",
      "metadata": {
        "colab_type": "text",
        "id": "kUnbI5Hp4sXg"
      },
      "source": [
        "We now use `tf.data.Dataset` transformations to prepare this data for training the char RNN loaded above. \n"
      ]
    },
    {
      "cell_type": "code",
      "execution_count": 0,
      "metadata": {
        "colab": {},
        "colab_type": "code",
        "id": "9kDkmGe-7No7"
      },
      "outputs": [],
      "source": [
        "# Input pre-processing parameters\n",
        "SEQ_LENGTH = 100\n",
        "BATCH_SIZE = 8\n",
        "BUFFER_SIZE = 10000  # For dataset shuffling"
      ]
    },
    {
      "cell_type": "code",
      "execution_count": 0,
      "metadata": {
        "colab": {},
        "colab_type": "code",
        "id": "W95Of6Bwsrfc"
      },
      "outputs": [],
      "source": [
        "# Using a namedtuple with keys x and y as the output type of the\n",
        "# dataset keeps both TFF and Keras happy:\n",
        "BatchType = collections.namedtuple('BatchType', ['x', 'y'])\n",
        "\n",
        "# Construct a lookup table to map string chars to indexes,\n",
        "# using the vocab loaded above:\n",
        "table = tf.contrib.lookup.index_table_from_tensor(\n",
        "    mapping=vocab,\n",
        "    num_oov_buckets=0,\n",
        "    default_value=0)  \n",
        "  \n",
        "def to_ids(x):\n",
        "  s = tf.reshape(x['snippets'], shape=[1])\n",
        "  chars = tf.string_split(s, delimiter='').values\n",
        "  ids = table.lookup(chars)\n",
        "  return ids  \n",
        "\n",
        "def split_input_target(chunk):\n",
        "  input_text = tf.map_fn(lambda x: x[:-1], chunk)\n",
        "  target_text = tf.map_fn(lambda x: x[1:], chunk)\n",
        "  return BatchType(input_text, target_text)\n",
        "\n",
        "  \n",
        "def preprocess(dataset):  \n",
        "  return (\n",
        "      # Map ASCII chars to int64 indexes using the vocab\n",
        "      dataset.map(to_ids)\n",
        "      # Split into individual chars\n",
        "      .apply(tf.data.experimental.unbatch())\n",
        "      # Form example sequences of SEQ_LENGTH +1\n",
        "      .batch(SEQ_LENGTH + 1,  drop_remainder=True)\n",
        "      # Shuffle and form minibatches\n",
        "      .shuffle(BUFFER_SIZE).batch(BATCH_SIZE, drop_remainder=True)\n",
        "      # And finally split into (input, target) tuples,\n",
        "      # each of length SEQ_LENGTH.\n",
        "      .map(split_input_target))\n"
      ]
    },
    {
      "cell_type": "markdown",
      "metadata": {
        "colab_type": "text",
        "id": "Jw98HnKmEhuh"
      },
      "source": [
        "Note that in the formation of the original sequences and in the formation of\n",
        "batches above, we use `drop_remainder=True` for simplicity. This means that any\n",
        "characters (clients) that don't have at least `(SEQ_LENGTH + 1) * BATCH_SIZE`\n",
        "chars of text will have empty datasets. A typical approach to address this would\n",
        "be to pad the batches with a special token, and then mask the loss to not take\n",
        "the padding tokens into account.\n",
        "\n",
        "This would complicate the example somewhat, so for this tutorial we only use ful\n",
        "batches, as in the\n",
        "[standard tutorial](https://www.tensorflow.org/tutorials/sequences/text_generation).\n",
        "However, in the federated setting this issue is more significant, because many\n",
        "users might have small datasets.\n",
        "\n",
        "Now we can preprocess our `raw_example_dataset`, and check the types:"
      ]
    },
    {
      "cell_type": "code",
      "execution_count": 10,
      "metadata": {
        "colab": {
          "height": 34
        },
        "colab_type": "code",
        "executionInfo": {
          "elapsed": 162,
          "status": "ok",
          "timestamp": 1550368778373,
          "user": {
            "displayName": "",
            "photoUrl": "",
            "userId": ""
          },
          "user_tz": 480
        },
        "id": "7rTal7bksWwc",
        "outputId": "eb01697c-2839-45cd-da6c-5d2f6d259141"
      },
      "outputs": [
        {
          "name": "stdout",
          "output_type": "stream",
          "text": [
            "BatchType(x=tf.int64, y=tf.int64) BatchType(x=TensorShape([8, 100]), y=TensorShape([8, 100]))\n"
          ]
        }
      ],
      "source": [
        "#@test {\"output\": \"ignore\"}\n",
        "example_dataset = preprocess(raw_example_dataset)\n",
        "print(example_dataset.output_types, example_dataset.output_shapes)  "
      ]
    },
    {
      "cell_type": "markdown",
      "metadata": {
        "colab_type": "text",
        "id": "ePT8Oawm8SRP"
      },
      "source": [
        "# Compile the model and test on the preprocessed data\n"
      ]
    },
    {
      "cell_type": "markdown",
      "metadata": {
        "colab_type": "text",
        "id": "vEgDsz-48cAq"
      },
      "source": [
        "We loaded an uncompiled keras model, but in order to run `keras_model.evaluate`, we need to compile it with a loss and metrics. We will also compile in an optimizer, which will be used as the on-device optimizer in Federated Learning."
      ]
    },
    {
      "cell_type": "markdown",
      "metadata": {
        "colab_type": "text",
        "id": "RsuVZ5KMWnn8"
      },
      "source": [
        "The original tutorial didn't have char-level accuracy (the fraction\n",
        "of predictions where the highest probability was put on the correct\n",
        "next char). This is a useful metric, so we add it.\n",
        "However, we need to define a new metric class for this because \n",
        "our predictions have rank 3 (a vector of logits for each of the \n",
        "`BATCH_SIZE * SEQ_LENGTH` predictions), and `SparseCategoricalAccuracy`\n",
        "expects only rank 2 predictions."
      ]
    },
    {
      "cell_type": "code",
      "execution_count": 0,
      "metadata": {
        "colab": {},
        "colab_type": "code",
        "id": "gOUiDBvmWlM9"
      },
      "outputs": [],
      "source": [
        "class FlattenedCategoricalAccuracy(tf.keras.metrics.SparseCategoricalAccuracy):\n",
        "\n",
        "  def __init__(self, name='accuracy', dtype=None):\n",
        "    super(FlattenedCategoricalAccuracy, self).__init__(name, dtype=dtype)\n",
        "\n",
        "  def update_state(self, y_true, y_pred, sample_weight=None):\n",
        "    y_true = tf.reshape(y_true, [-1])\n",
        "    y_pred = tf.reshape(y_pred, [-1, len(vocab)])\n",
        "    return super(FlattenedCategoricalAccuracy, self).update_state(\n",
        "        y_true, y_pred, sample_weight)"
      ]
    },
    {
      "cell_type": "markdown",
      "metadata": {
        "colab_type": "text",
        "id": "m6H1n1VrW0ar"
      },
      "source": [
        "We also need a slightly modified loss function.   Because we predict on each char in the batch, our loss has shape `(BATCH_SIZE, SEQ_LENGTH)`, so we introduce a `reduce_mean` to compute the scalar loss for the batch. "
      ]
    },
    {
      "cell_type": "code",
      "execution_count": 0,
      "metadata": {
        "colab": {},
        "colab_type": "code",
        "id": "Y1uKWhv_zLqG"
      },
      "outputs": [],
      "source": [
        "def loss_fn(y_true, y_pred):\n",
        "  return tf.reduce_mean(\n",
        "      tf.keras.metrics.sparse_categorical_crossentropy(\n",
        "          y_true, y_pred, from_logits=True))"
      ]
    },
    {
      "cell_type": "code",
      "execution_count": 0,
      "metadata": {
        "colab": {},
        "colab_type": "code",
        "id": "QH6vXHHeWkYN"
      },
      "outputs": [],
      "source": [
        "def compile(keras_model):\n",
        "  keras_model.compile(\n",
        "      optimizer=tf.keras.optimizers.SGD(lr=0.5),\n",
        "      loss=loss_fn,\n",
        "      metrics=[FlattenedCategoricalAccuracy()])\n",
        "  return keras_model"
      ]
    },
    {
      "cell_type": "markdown",
      "metadata": {
        "colab_type": "text",
        "id": "U2X9eFgt94PM"
      },
      "source": [
        "Now we can compile a model, and evaluate it on our `example_dataset`."
      ]
    },
    {
      "cell_type": "code",
      "execution_count": 14,
      "metadata": {
        "colab": {
          "height": 121
        },
        "colab_type": "code",
        "executionInfo": {
          "elapsed": 1064,
          "status": "ok",
          "timestamp": 1550368779999,
          "user": {
            "displayName": "",
            "photoUrl": "",
            "userId": ""
          },
          "user_tz": 480
        },
        "id": "c3Xd-52-9zGa",
        "outputId": "1d6a9852-8446-4e26-9d7d-febec7dca522"
      },
      "outputs": [
        {
          "name": "stdout",
          "output_type": "stream",
          "text": [
            "Evaluating on an example Shakespeare character:\n",
            "1/1==============================] - 0s 330ms/step - loss: 3.1588 - accuracy: 0.3988\n",
            "Expected accuracy for random guessing: 0.012\n",
            "Evaluating on completely random data:\n",
            "1/1==============================] - 0s 244ms/step - loss: 11.4563 - accuracy: 0.0113\n"
          ]
        },
        {
          "data": {
            "text/plain": [
              "[11.456281661987305, 0.01125]"
            ]
          },
          "execution_count": 14,
          "metadata": {
            "tags": []
          },
          "output_type": "execute_result"
        }
      ],
      "source": [
        "#@test {\"output\": \"ignore\", \"timeout\": 120}\n",
        "BATCH_SIZE = 8  # The training and eval batch size for the rest of this tutorial.\n",
        "keras_model = load_model(batch_size=BATCH_SIZE)\n",
        "\n",
        "compile(keras_model)\n",
        "\n",
        "# Confirm that loss is much lower on Shakespeare than on random data\n",
        "print('Evaluating on an example Shakespeare character:')\n",
        "keras_model.evaluate(example_dataset.take(1))\n",
        "\n",
        "# As a sanity check, we can construct some completely random data, where we expect\n",
        "# the accuracy to be essentially random:\n",
        "random_indexes = np.random.randint(\n",
        "    low=0, high=len(vocab), size=1 * BATCH_SIZE * (SEQ_LENGTH+1))\n",
        "data = {\n",
        "    'snippets':\n",
        "        tf.constant(''.join(np.array(vocab)[random_indexes]), shape=[1, 1])\n",
        "}\n",
        "random_dataset = preprocess(tf.data.Dataset.from_tensor_slices(data))\n",
        "print('Expected accuracy for random guessing: {:.3f}'.format(1.0 / len(vocab)))\n",
        "print('Evaluating on completely random data:')\n",
        "keras_model.evaluate(random_dataset)"
      ]
    },
    {
      "cell_type": "markdown",
      "metadata": {
        "colab_type": "text",
        "id": "lH0WzL5L8Lm4"
      },
      "source": [
        "# Fine-tune the model with Federated Learning"
      ]
    },
    {
      "cell_type": "markdown",
      "metadata": {
        "colab_type": "text",
        "id": "NCao4M3L_tsA"
      },
      "source": [
        "TFF serializes all TensorFlow computations so they can potentially be run in a\n",
        "non-Python environment (even though at the moment, only a simulation runtime implemented in Python is available). Even though we are running in eager mode, (TF 2.0), currently TFF serializes TensorFlow computations by constructing the\n",
        "necessary ops inside the context of a \"`with tf.Graph.as_default()`\" statement.\n",
        "Thus, we need to provide a function that TFF can use to introduce our model into\n",
        "a graph it controls. We do this as follows:"
      ]
    },
    {
      "cell_type": "code",
      "execution_count": 0,
      "metadata": {
        "colab": {},
        "colab_type": "code",
        "id": "5KadIvFp7m6y"
      },
      "outputs": [],
      "source": [
        "# Clone the keras_model inside `create_tff_model()`, which TFF will\n",
        "# call to produce a new copy of the model inside the graph that it will serialize.\n",
        "def create_tff_model():\n",
        "  # TFF uses a `dummy_batch` so it knows the types and shapes\n",
        "  # that your model expects.\n",
        "  x = tf.constant(np.random.randint(1, len(vocab), size=[BATCH_SIZE, SEQ_LENGTH]))\n",
        "  dummy_batch = collections.OrderedDict([('x', x), ('y', x)]) \n",
        "  keras_model_clone = compile(tf.keras.models.clone_model(keras_model))\n",
        "  return tff.learning.from_compiled_keras_model(\n",
        "      keras_model_clone, dummy_batch=dummy_batch)"
      ]
    },
    {
      "cell_type": "markdown",
      "metadata": {
        "colab_type": "text",
        "id": "ZJF_yhJxAi2l"
      },
      "source": [
        "Now we are ready to construct a Federated Averaging iterative process, which we will use to improve the model (for details on the Federated Averaging algorithm, see the paper [Communication-Efficient Learning of Deep Networks from Decentralized Data](https://arxiv.org/abs/1602.05629)).\n",
        "\n",
        "We use a compiled Keras model to perform standard (non-federated) evaluation after each round of federated training. This is useful for research purposes when doing simulated federated learning and there is a  standard test dataset. \n",
        "\n",
        "In a realistic production setting this same technique might be used to take models trained with federated learning and evaluate them on a centralized benchmark dataset for testing or quality assurance purposes."
      ]
    },
    {
      "cell_type": "code",
      "execution_count": 0,
      "metadata": {
        "colab": {},
        "colab_type": "code",
        "id": "my3PW3qhAMDA"
      },
      "outputs": [],
      "source": [
        "#@test {\"output\": \"ignore\", \"timeout\": 300}\n",
        "# This command builds all the TensorFlow graphs and serializes them: \n",
        "fed_avg = tff.learning.build_federated_averaging_process(model_fn=create_tff_model)"
      ]
    },
    {
      "cell_type": "markdown",
      "metadata": {
        "colab_type": "text",
        "id": "qVOkzs9C9kmv"
      },
      "source": [
        "Here is the simplest possible loop, where we run federated averaging for one round on a single client on a single batch:"
      ]
    },
    {
      "cell_type": "code",
      "execution_count": 18,
      "metadata": {
        "colab": {
          "height": 34
        },
        "colab_type": "code",
        "executionInfo": {
          "elapsed": 12404,
          "status": "ok",
          "timestamp": 1550368798171,
          "user": {
            "displayName": "",
            "photoUrl": "",
            "userId": ""
          },
          "user_tz": 480
        },
        "id": "lrjUrkjq9jYk",
        "outputId": "088aec90-eae7-4d29-e337-ece1365f83a2"
      },
      "outputs": [
        {
          "name": "stdout",
          "output_type": "stream",
          "text": [
            "\u003caccuracy=0.035,loss=4.45274\u003e\n"
          ]
        }
      ],
      "source": [
        "#@test {\"output\": \"ignore\", \"timeout\": 600}\n",
        "state = fed_avg.initialize()\n",
        "state, metrics = fed_avg.next(state, [example_dataset.take(1)])\n",
        "print(metrics)"
      ]
    },
    {
      "cell_type": "markdown",
      "metadata": {
        "colab_type": "text",
        "id": "o2CjvVg0FZpS"
      },
      "source": [
        "Now let's write a slightly more interesting training and evaluation loop.\n",
        "\n",
        "So that this simulation still runs relatively quickly,  we train on the same three clients each round, only considering two minibatches for each.\n",
        "\n"
      ]
    },
    {
      "cell_type": "code",
      "execution_count": 0,
      "metadata": {
        "colab": {},
        "colab_type": "code",
        "id": "wE386-rbMCve"
      },
      "outputs": [],
      "source": [
        "def data(client, source=train_data):\n",
        "  return preprocess(\n",
        "      source.create_tf_dataset_for_client(client)).take(2)\n",
        "\n",
        "clients = ['ALL_S_WELL_THAT_ENDS_WELL_CELIA',\n",
        "           'MUCH_ADO_ABOUT_NOTHING_OTHELLO',\n",
        "           'THE_TRAGEDY_OF_KING_LEAR_KING']\n",
        "\n",
        "train_datasets = [data(client) for client in clients]\n",
        "\n",
        "# We concatenate the test datasets for evaluation with Keras.\n",
        "test_dataset = functools.reduce(\n",
        "    lambda d1, d2: d1.concatenate(d2),\n",
        "    [data(client, test_data) for client in clients])"
      ]
    },
    {
      "cell_type": "markdown",
      "metadata": {
        "colab_type": "text",
        "id": "cU3FuY00MOoX"
      },
      "source": [
        "The initial state of the model produced by `fed_avg.initialize()` is based\n",
        "on the random initializers for the Keras model, not the weights that were loaded,\n",
        "since `clone_model()` does not clone the weights. To start training\n",
        "from a pre-trained model, we set the model weights in the server state\n",
        "directly from the loaded model."
      ]
    },
    {
      "cell_type": "code",
      "execution_count": 19,
      "metadata": {
        "colab": {
          "height": 208
        },
        "colab_type": "code",
        "executionInfo": {
          "elapsed": 143066,
          "status": "ok",
          "timestamp": 1550368941319,
          "user": {
            "displayName": "",
            "photoUrl": "",
            "userId": ""
          },
          "user_tz": 480
        },
        "id": "vm_-PU8OFXpY",
        "outputId": "a84544df-a127-4fd1-c88f-fc594198776e"
      },
      "outputs": [
        {
          "name": "stdout",
          "output_type": "stream",
          "text": [
            "Evaluating before training round 0\n",
            "14/14==============================] - 3s 225ms/step - loss: 3.3146 - accuracy: 0.4020\n",
            "Training metrics: \u003caccuracy=0.399792,loss=3.29145\u003e\n",
            "Evaluating before training round 1\n",
            "14/14==============================] - 3s 222ms/step - loss: 3.0174 - accuracy: 0.4298\n",
            "Training metrics: \u003caccuracy=0.521458,loss=2.3714\u003e\n",
            "Evaluating before training round 2\n",
            "14/14==============================] - 3s 221ms/step - loss: 2.8401 - accuracy: 0.4459\n",
            "Training metrics: \u003caccuracy=0.619167,loss=1.71813\u003e\n",
            "Evaluating before training round 4\n",
            "14/14==============================] - 3s 221ms/step - loss: 2.7425 - accuracy: 0.4544\n"
          ]
        }
      ],
      "source": [
        "#@test {\"skip\": true}\n",
        "NUM_ROUNDS = 3\n",
        "\n",
        "# The state of the FL server, containing the model and optimization state.\n",
        "state = fed_avg.initialize()\n",
        "\n",
        "state = tff.learning.state_with_new_model_weights(\n",
        "    state,\n",
        "    trainable_weights=[v.numpy() for v in keras_model.trainable_weights],\n",
        "    non_trainable_weights=[\n",
        "        v.numpy() for v in keras_model.non_trainable_weights\n",
        "    ])\n",
        "\n",
        "\n",
        "def keras_evaluate(state, round_num):\n",
        "  keras_model.set_weights(\n",
        "      tff.learning.keras_weights_from_tff_weights(state.model))\n",
        "  print('Evaluating before training round', round_num)\n",
        "  keras_model.evaluate(example_dataset)\n",
        "\n",
        "\n",
        "for round_num in range(NUM_ROUNDS):\n",
        "  keras_evaluate(state, round_num)\n",
        "  # N.B. The TFF runtime is currently fairly slow,\n",
        "  # expect this to get significantly faster in future releases.\n",
        "  state, metrics = fed_avg.next(state, train_datasets)\n",
        "  print('Training metrics:', metrics)\n",
        "\n",
        "keras_evaluate(state, NUM_ROUNDS + 1)"
      ]
    },
    {
      "cell_type": "markdown",
      "metadata": {
        "colab_type": "text",
        "id": "SoshvcHhXVa6"
      },
      "source": [
        "With the default changes, we haven't done enough training to make a big difference, but if you train longer on more Shakespeare data, you should see a difference in tehe style of the text generated with the updated model:"
      ]
    },
    {
      "cell_type": "code",
      "execution_count": 21,
      "metadata": {
        "colab": {
          "height": 141
        },
        "colab_type": "code",
        "executionInfo": {
          "elapsed": 2789,
          "status": "ok",
          "timestamp": 1550369044554,
          "user": {
            "displayName": "",
            "photoUrl": "",
            "userId": ""
          },
          "user_tz": 480
        },
        "id": "NTUig7QmXavy",
        "outputId": "66af6d76-73e4-4c30-8ab7-073eb275925d"
      },
      "outputs": [
        {
          "name": "stdout",
          "output_type": "stream",
          "text": [
            "What of TensorFlow Federated, you ask? Wht have eaten.\r\n",
            "\r\n",
            "They passed all real.\n",
            "\r\n",
            "\r\n",
            "A                                                                                                                                                          \n"
          ]
        }
      ],
      "source": [
        "#@test {\"output\": \"ignore\", \"timeout\": 300}\n",
        "keras_model_batch1.set_weights([v.numpy() for v in keras_model.weights])\n",
        "# Text generation requires batch_size=1\n",
        "print(generate_text(keras_model_batch1, 'What of TensorFlow Federated, you ask? '))"
      ]
    },
    {
      "cell_type": "markdown",
      "metadata": {
        "colab_type": "text",
        "id": "4DA1Fkf5mN0s"
      },
      "source": [
        "# Suggested extensions\n",
        "\n",
        "This tutorial is just the first step! Here are some ideas for how you might try extending this notebook:\n",
        "  * Write a more realistic training loop where you sample clients to train on randomly.\n",
        "  * Use \"`.repeat(NUM_EPOCHS)`\" on the client datasets to try multiple epochs of local training (e.g., as in [McMahan et. al.](https://arxiv.org/abs/1602.05629)). See also [Federated Learning for Image Classification](federated_learning_for_image_classification.md) which does this.\n",
        "  * Change the `compile()` command to experiment with using different optimization algorithms on the client.\n",
        "  * Try the `server_optimizer` argument to `build_federated_averaging_process` to try different algorithms for applying the model updates on the server.\n",
        "  * Try the `client_weight_fn` argument to to `build_federated_averaging_process` to try different weightings of the clients. The default weights client updates by the number of examples on the client, but you can do e.g. `client_weight_fn=lambda _: tf.constant(1.0)`."
      ]
    }
  ],
  "metadata": {
    "colab": {
      "collapsed_sections": [],
      "last_runtime": {
        "build_target": "",
        "kind": "local"
      },
      "name": "Federated Learning for Text Generation",
      "provenance": [
        {
          "file_id": "1H0UAX4si3f9igucGfmmH6-l2nDWJo6Se",
          "timestamp": 1547760001921
        }
      ],
      "toc_visible": true,
      "version": "0.3.2"
    },
    "kernelspec": {
      "display_name": "Python 2",
      "name": "python2"
    }
  },
  "nbformat": 4,
  "nbformat_minor": 0
}
