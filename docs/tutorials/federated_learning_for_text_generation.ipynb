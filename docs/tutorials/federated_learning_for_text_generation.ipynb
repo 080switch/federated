{
  "cells": [
    {
      "cell_type": "markdown",
      "metadata": {
        "colab_type": "text",
        "id": "x44FFES-r6y0"
      },
      "source": [
        "# Federated Learning for Text Generation"
      ]
    },
    {
      "cell_type": "markdown",
      "metadata": {
        "colab_type": "text",
        "id": "KbNz2tuvsAFB"
      },
      "source": [
        "This tutorial builds on the concepts in the [Federated Learning for Image Classification](federated_learning_for_image_classification.md) tutorial, and shows how to:\n",
        "  * Load a serialized Keras model for use in TFF.\n",
        "  * Take a model pre-trained using standard training (in this case a RNN that generates ASCII chars), and refine it via federated learning.\n",
        "  * Take the refined model weights and apply them to an existing keras model for further experimentation or evaluation.\n",
        "\n",
        "A note on terminology: we use `chars` to refer to ASCII symbols, to avoid confusion with the characters that appear in Shakespeare's plays. "
      ]
    },
    {
      "cell_type": "code",
      "execution_count": 1,
      "metadata": {
        "colab": {
          "height": 34
        },
        "colab_type": "code",
        "executionInfo": {
          "elapsed": 9404,
          "status": "ok",
          "timestamp": 1550363506558,
          "user": {
            "displayName": "",
            "photoUrl": "",
            "userId": ""
          },
          "user_tz": 480
        },
        "id": "ZjDQysatrc2S",
        "outputId": "1fda4761-1913-4edd-8932-4aa8487cbf2c"
      },
      "outputs": [
        {
          "data": {
            "text/plain": [
              "'Hello, World!'"
            ]
          },
          "execution_count": 1,
          "metadata": {
            "tags": []
          },
          "output_type": "execute_result"
        }
      ],
      "source": [
        "from __future__ import absolute_import\n",
        "from __future__ import division\n",
        "from __future__ import print_function\n",
        "\n",
        "\n",
        "import collections\n",
        "import functools\n",
        "import numpy as np\n",
        "import os\n",
        "import tensorflow as tf\n",
        "import time\n",
        "\n",
        "from tensorflow_federated import python as tff\n",
        "\n",
        "nest = tf.contrib.framework.nest\n",
        "\n",
        "tf.compat.v1.enable_v2_behavior()\n",
        "\n",
        "np.random.seed(0)\n",
        "\n",
        "# Test the TFF is working:\n",
        "tff.federated_computation(lambda: 'Hello, World!')()"
      ]
    },
    {
      "cell_type": "markdown",
      "metadata": {
        "colab_type": "text",
        "id": "lyICXwVAxvW9"
      },
      "source": [
        "# Load a pre-trained model\n",
        "\n",
        "We load a model that was trained following the TensorFlow tutorial\n",
        "[Text generation using a RNN with eager execution](https://www.tensorflow.org/tutorials/sequences/text_generation)\n",
        "with only two changes:\n",
        "\n",
        "*   The model was trained on data from\n",
        "    [A Tale of Two Cities](http://www.ibiblio.org/pub/docs/books/gutenberg/9/98/98.txt)\n",
        "    and\n",
        "    [A Christmas Carol](http://www.ibiblio.org/pub/docs/books/gutenberg/4/46/46.txt),\n",
        "    instead of on\n",
        "    [The Complete Works of Shakespeare](http://www.gutenberg.org/files/100/100-0.txt).\n",
        "    We will use Federated Learning to fine-tune this model for Shakespeare in\n",
        "    this tutorial, using a federated version of the data provided by TFF.\n",
        "*   The char RNN uses a fixed vocab consisting of the union of chars found in\n",
        "    the Dickens and Shakespeare works.\n",
        "\n",
        "The model was saved with `tf.keras.models.save_model(include_optimizer=False)`."
      ]
    },
    {
      "cell_type": "markdown",
      "metadata": {
        "colab_type": "text",
        "id": "XgF8e2Ksyq1F"
      },
      "source": [
        "## Generate the vocab lookup tables"
      ]
    },
    {
      "cell_type": "code",
      "execution_count": 0,
      "metadata": {
        "colab": {},
        "colab_type": "code",
        "id": "IlCgQBRVymwR"
      },
      "outputs": [],
      "source": [
        "# A fixed vocabularly of ASCII chars that occur in the works of Shakespeare and Dickens:\n",
        "vocab = list('dhlptx@DHLPTX $(,048cgkoswCGKOSW[_#\\'/37;?bfjnrvzBFJNRVZ\"\u0026*.26:\\naeimquyAEIMQUY]!%)-159\\r')\n",
        "\n",
        "# Creating a mapping from unique characters to indices\n",
        "char2idx = {u:i for i, u in enumerate(vocab)}\n",
        "idx2char = np.array(vocab)"
      ]
    },
    {
      "cell_type": "markdown",
      "metadata": {
        "colab_type": "text",
        "id": "2EH6MFRdzAwd"
      },
      "source": [
        "## Load the pre-trained model and generate some text"
      ]
    },
    {
      "cell_type": "code",
      "execution_count": 0,
      "metadata": {
        "colab": {},
        "colab_type": "code",
        "id": "iIK674SrtCTm"
      },
      "outputs": [],
      "source": [
        "def load_model(batch_size):\n",
        "  urls = {\n",
        "      1: 'https://storage.googleapis.com/tff-models-public/dickens_rnn.batch1.kerasmodel',\n",
        "      8: 'https://storage.googleapis.com/tff-models-public/dickens_rnn.batch8.kerasmodel'}\n",
        "  assert batch_size in urls, 'batch_size must be in ' + str(urls.keys())\n",
        "  url = urls[batch_size]\n",
        "  local_file = tf.keras.utils.get_file(os.path.basename(url), origin=url)  \n",
        "  return tf.keras.models.load_model(local_file, compile=False)"
      ]
    },
    {
      "cell_type": "code",
      "execution_count": 0,
      "metadata": {
        "colab": {},
        "colab_type": "code",
        "id": "WvuwZBX5Ogfd"
      },
      "outputs": [],
      "source": [
        "def generate_text(model, start_string):\n",
        "  # From https://www.tensorflow.org/tutorials/sequences/text_generation\n",
        "  num_generate = 200\n",
        "  input_eval = [char2idx[s] for s in start_string]\n",
        "  input_eval = tf.expand_dims(input_eval, 0)\n",
        "  text_generated = []\n",
        "  temperature = 1.0\n",
        "\n",
        "  model.reset_states()\n",
        "  for i in range(num_generate):\n",
        "    predictions = model(input_eval)\n",
        "    predictions = tf.squeeze(predictions, 0)\n",
        "    predictions = predictions / temperature\n",
        "    predicted_id = tf.multinomial(predictions, num_samples=1)[-1,0].numpy()      \n",
        "    input_eval = tf.expand_dims([predicted_id], 0)      \n",
        "    text_generated.append(idx2char[predicted_id])\n",
        "\n",
        "  return (start_string + ''.join(text_generated))"
      ]
    },
    {
      "cell_type": "code",
      "execution_count": 5,
      "metadata": {
        "colab": {
          "height": 86
        },
        "colab_type": "code",
        "executionInfo": {
          "elapsed": 2540,
          "status": "ok",
          "timestamp": 1550363509881,
          "user": {
            "displayName": "",
            "photoUrl": "",
            "userId": ""
          },
          "user_tz": 480
        },
        "id": "MGAdStJ5wDPV",
        "outputId": "cd9282be-746b-4c81-cef5-8eabed58c1d9"
      },
      "outputs": [
        {
          "name": "stdout",
          "output_type": "stream",
          "text": [
            "What of TensorFlow Federated, you ask? Shall I give your\r\n",
            "hores, turning up the hill-sworn--which had beautified in asleep. Who one left had tried to all of us,\r\n",
            "as it power it is late me! Age in it for done, in the bitter way,\r\n",
            "was satisf\n"
          ]
        }
      ],
      "source": [
        "#@test {\"output\": \"ignore\", \"timeout\": 120}\n",
        "# Text generation requires a batch_size=1 model.\n",
        "print(generate_text(load_model(batch_size=1), 'What of TensorFlow Federated, you ask? '))"
      ]
    },
    {
      "cell_type": "markdown",
      "metadata": {
        "colab_type": "text",
        "id": "kKMUn-TlgxuP"
      },
      "source": [
        "# Load and Preprocess the Federated Shakespeare Data\n",
        "\n",
        "The `tff.simulation.datasets` package provides a variety of datasets that are split into \"clients\", where each client corresponds to a dataset on a particular device that might participate in federated learning."
      ]
    },
    {
      "cell_type": "code",
      "execution_count": 0,
      "metadata": {
        "colab": {},
        "colab_type": "code",
        "id": "di3nStTDg0qc"
      },
      "outputs": [],
      "source": [
        "#@test {\"timeout\": 120}\n",
        "train_data, test_data = tff.simulation.datasets.shakespeare.load_data()"
      ]
    },
    {
      "cell_type": "markdown",
      "metadata": {
        "colab_type": "text",
        "id": "_iiY65Vv4QNK"
      },
      "source": [
        "The datasets provided by `shakespeare.load_data()` consist of a sequence of\n",
        "string `Tensors`, one for each line spoken by a particular character in a\n",
        "Shakespeare play. The client keys consist of the name of the play joined with\n",
        "the name of the character. Note that in a real federated learning scenario\n",
        "clients are never identified or tracked by ids, but for simulation it is useful\n",
        "to work with keyed datasets.\n",
        "\n",
        "Here, for example, we can look at some data from King Lear:"
      ]
    },
    {
      "cell_type": "code",
      "execution_count": 7,
      "metadata": {
        "colab": {
          "height": 487
        },
        "colab_type": "code",
        "executionInfo": {
          "elapsed": 106,
          "status": "ok",
          "timestamp": 1550363510433,
          "user": {
            "displayName": "",
            "photoUrl": "",
            "userId": ""
          },
          "user_tz": 480
        },
        "id": "FEKiy1ntmmnk",
        "outputId": "28583785-db17-417c-8448-336da98c28a8"
      },
      "outputs": [
        {
          "name": "stdout",
          "output_type": "stream",
          "text": [
            "tf.Tensor(\n",
            "Live regist'red upon our brazen tombs,\n",
            "And then grace us in the disgrace of death;\n",
            "When, spite of cormorant devouring Time,\n",
            "Th' endeavour of this present breath may buy\n",
            "That honour which shall bate his scythe's keen edge,\n",
            "And make us heirs of all eternity.\n",
            "Therefore, brave conquerors- for so you are\n",
            "That war against your own affections\n",
            "And the huge army of the world's desires-\n",
            "Our late edict shall strongly stand in force:\n",
            "Navarre shall be the wonder of the world;\n",
            "Our court shall be a little Academe,\n",
            "Still and contemplative in living art.\n",
            "You three, Berowne, Dumain, and Longaville,\n",
            "Have sworn for three years' term to live with me\n",
            "My fellow-scholars, and to keep those statutes\n",
            "That are recorded in this schedule here.\n",
            "Your oaths are pass'd; and now subscribe your names,\n",
            "That his own hand may strike his honour down\n",
            "That violates the smallest branch herein.\n",
            "If you are arm'd to do as sworn to do,\n",
            "Subscribe to your deep oaths, and keep it too.\n",
            "Your oath is pass'd to pass away from these., shape=(), dtype=string)\n",
            "tf.Tensor(\n",
            "this?\n",
            "Did you hear the proclamation?, shape=(), dtype=string)\n"
          ]
        }
      ],
      "source": [
        "raw_example_dataset = train_data.create_tf_dataset_for_client(\n",
        "    'THE_TRAGEDY_OF_KING_LEAR_KING')\n",
        "# To allow for future extensions, each entry x\n",
        "# is an OrderedDict with a single key 'snippets' which contains the text.\n",
        "for x in raw_example_dataset.take(2):\n",
        "  print(x['snippets'])"
      ]
    },
    {
      "cell_type": "markdown",
      "metadata": {
        "colab_type": "text",
        "id": "kUnbI5Hp4sXg"
      },
      "source": [
        "We now use `tf.data.Dataset` transformations to prepare this data for training\n",
        "the char RNN loaded above. The key steps are:\n",
        "\n",
        "*   Converting the raw strings into indexes (tokenization)\n",
        "*   Unbatching the data to merge all the lines together.\n",
        "*   Splitting into sequences of length `SEQ_LENGTH + 1` (each sequence can be\n",
        "    thought of as a training example).\n",
        "*   Shuffling the sequences\n",
        "*   Batching the sequences into batches with `BATCH_SIZE` rows\n",
        "*   Finally, converting each sequence into a training sequence `x` and a test\n",
        "    sequence `y`. Here `x` drops the last char, and `y` drops the first char, so\n",
        "    `y[i]` gives the next char in the sequence after `x[i]`.\n",
        "\n",
        "Both in the formation of the original sequences and in the formation of batches,\n",
        "we use `drop_remainder=True` for simplicity. This means that any characters\n",
        "(clients) that don't have at least `(SEQ_LENGTH + 1) * BATCH_SIZE` chars of text\n",
        "will have empty datasets. A typical approach to address this would be to pad the\n",
        "batches with a special token, and then mask the loss to not take padded tokens\n",
        "into account.\n",
        "\n",
        "This would complicate the example somewhat, so for this example we only use ful\n",
        "batches, as in the\n",
        "[standard tutorial](https://www.tensorflow.org/tutorials/sequences/text_generation).\n",
        "However, in the federated setting this issue is more significant, because many\n",
        "users might have small datasets."
      ]
    },
    {
      "cell_type": "code",
      "execution_count": 0,
      "metadata": {
        "colab": {},
        "colab_type": "code",
        "id": "9kDkmGe-7No7"
      },
      "outputs": [],
      "source": [
        "# Input pre-processing parameters\n",
        "SEQ_LENGTH = 100\n",
        "BATCH_SIZE = 8\n",
        "BUFFER_SIZE = 10000  # For dataset shuffling"
      ]
    },
    {
      "cell_type": "code",
      "execution_count": 0,
      "metadata": {
        "colab": {},
        "colab_type": "code",
        "id": "W95Of6Bwsrfc"
      },
      "outputs": [],
      "source": [
        "# Using a namedtuple with keys x and y as the output type of the\n",
        "# dataset keeps both TFF and Keras happy:\n",
        "BatchType = collections.namedtuple('BatchType', ['x', 'y'])\n",
        "\n",
        "# Construct a lookup table to map string chars to indexes,\n",
        "# using the vocab loaded above:\n",
        "table = tf.contrib.lookup.index_table_from_tensor(\n",
        "    mapping=vocab,\n",
        "    num_oov_buckets=0,\n",
        "    default_value=0)  \n",
        "  \n",
        "def to_ids(x):\n",
        "  s = tf.reshape(x['snippets'], shape=[1])\n",
        "  chars = tf.string_split(s, delimiter='').values\n",
        "  ids = table.lookup(chars)\n",
        "  return ids  \n",
        "\n",
        "def split_input_target(chunk):\n",
        "  input_text = tf.map_fn(lambda x: x[:-1], chunk)\n",
        "  target_text = tf.map_fn(lambda x: x[1:], chunk)\n",
        "  return BatchType(input_text, target_text)\n",
        "\n",
        "  \n",
        "def preprocess(dataset):  \n",
        "  return (\n",
        "      # Map characters to indexes using vocab\n",
        "      dataset.map(to_ids)\n",
        "      # Split into individual chars\n",
        "      .apply(tf.data.experimental.unbatch())\n",
        "      # Form example sequences of SEQ_LENGTH\n",
        "      .batch(SEQ_LENGTH + 1,  drop_remainder=True)\n",
        "      # Shuffle and form minibatches\n",
        "      .shuffle(BUFFER_SIZE).batch(BATCH_SIZE, drop_remainder=True)\n",
        "      # And finally split into (input, target) tuples.\n",
        "      .map(split_input_target))\n"
      ]
    },
    {
      "cell_type": "markdown",
      "metadata": {
        "colab_type": "text",
        "id": "bBgzirCW7bJ7"
      },
      "source": [
        "Now we can preprocess our `raw_example_dataset`, and check the types:"
      ]
    },
    {
      "cell_type": "code",
      "execution_count": 10,
      "metadata": {
        "colab": {
          "height": 34
        },
        "colab_type": "code",
        "executionInfo": {
          "elapsed": 178,
          "status": "ok",
          "timestamp": 1550363510946,
          "user": {
            "displayName": "",
            "photoUrl": "",
            "userId": ""
          },
          "user_tz": 480
        },
        "id": "7rTal7bksWwc",
        "outputId": "9aa399f0-cc9b-47f7-b4cc-1fae0fd114a7"
      },
      "outputs": [
        {
          "name": "stdout",
          "output_type": "stream",
          "text": [
            "BatchType(x=tf.int64, y=tf.int64) BatchType(x=TensorShape([8, 100]), y=TensorShape([8, 100]))\n"
          ]
        }
      ],
      "source": [
        "#@test {\"output\": \"ignore\"}\n",
        "example_dataset = preprocess(raw_example_dataset)\n",
        "print(example_dataset.output_types, example_dataset.output_shapes)  "
      ]
    },
    {
      "cell_type": "markdown",
      "metadata": {
        "colab_type": "text",
        "id": "ePT8Oawm8SRP"
      },
      "source": [
        "# Compile the model and test on the preprocessed data\n"
      ]
    },
    {
      "cell_type": "markdown",
      "metadata": {
        "colab_type": "text",
        "id": "vEgDsz-48cAq"
      },
      "source": [
        "We loaded an uncompiled keras model, but in order to run `keras_model.evaluate`, we need to compile it with a loss and metrics. We will also compile in an optimizer, which will be used as the on-device optimizer in Federated Learning."
      ]
    },
    {
      "cell_type": "markdown",
      "metadata": {
        "colab_type": "text",
        "id": "RsuVZ5KMWnn8"
      },
      "source": [
        "The original tutorial didn't have char-level accuracy (the fraction\n",
        "of predictions where the highest probability was put on the correct\n",
        "next char). This is a useful metric, so we add it.\n",
        "However, we need to define a new metric class for this because \n",
        "our predictions have rank 3 (a vector of logits for each of the \n",
        "`BATCH_SIZE * SEQ_LENGTH` predictions), and `SparseCategoricalAccuracy`\n",
        "expects only rank 2 predictions."
      ]
    },
    {
      "cell_type": "code",
      "execution_count": 0,
      "metadata": {
        "colab": {},
        "colab_type": "code",
        "id": "gOUiDBvmWlM9"
      },
      "outputs": [],
      "source": [
        "class FlattenedCategoricalAccuracy(tf.keras.metrics.SparseCategoricalAccuracy):\n",
        "\n",
        "  def __init__(self, name='accuracy', dtype=None):\n",
        "    super(FlattenedCategoricalAccuracy, self).__init__(name, dtype=dtype)\n",
        "\n",
        "  def update_state(self, y_true, y_pred, sample_weight=None):\n",
        "    y_true = tf.reshape(y_true, [-1])\n",
        "    y_pred = tf.reshape(y_pred, [-1, len(vocab)])\n",
        "    return super(FlattenedCategoricalAccuracy, self).update_state(\n",
        "        y_true, y_pred, sample_weight)"
      ]
    },
    {
      "cell_type": "markdown",
      "metadata": {
        "colab_type": "text",
        "id": "m6H1n1VrW0ar"
      },
      "source": [
        "We also need a slightly modified loss function.   Because we predict on each char in the batch, our loss has shape `(BATCH_SIZE, SEQ_LENGTH)`, so we introduce a `reduce_mean` to compute the scalar loss for the batch. "
      ]
    },
    {
      "cell_type": "code",
      "execution_count": 0,
      "metadata": {
        "colab": {},
        "colab_type": "code",
        "id": "Y1uKWhv_zLqG"
      },
      "outputs": [],
      "source": [
        "def loss_fn(y_true, y_pred):\n",
        "  return tf.reduce_mean(\n",
        "      tf.keras.metrics.sparse_categorical_crossentropy(\n",
        "          y_true, y_pred, from_logits=True))"
      ]
    },
    {
      "cell_type": "code",
      "execution_count": 0,
      "metadata": {
        "colab": {},
        "colab_type": "code",
        "id": "QH6vXHHeWkYN"
      },
      "outputs": [],
      "source": [
        "def compile(keras_model):\n",
        "  keras_model.compile(\n",
        "      optimizer=tf.keras.optimizers.SGD(lr=0.5),\n",
        "      loss=loss_fn,\n",
        "      metrics=[FlattenedCategoricalAccuracy()])\n",
        "  return keras_model"
      ]
    },
    {
      "cell_type": "markdown",
      "metadata": {
        "colab_type": "text",
        "id": "U2X9eFgt94PM"
      },
      "source": [
        "Now we can compile a model, and evaluate it on our `example_dataset`."
      ]
    },
    {
      "cell_type": "code",
      "execution_count": 14,
      "metadata": {
        "colab": {
          "height": 121
        },
        "colab_type": "code",
        "executionInfo": {
          "elapsed": 1104,
          "status": "ok",
          "timestamp": 1550363512491,
          "user": {
            "displayName": "",
            "photoUrl": "",
            "userId": ""
          },
          "user_tz": 480
        },
        "id": "c3Xd-52-9zGa",
        "outputId": "54ca823f-964a-48b9-87ab-1b45a9e5c908"
      },
      "outputs": [
        {
          "name": "stdout",
          "output_type": "stream",
          "text": [
            "Evaluating on an example Shakespeare character:\n",
            "1/1==============================] - 0s 327ms/step - loss: 3.0479 - accuracy: 0.4200\n",
            "Expected accuracy for random guessing: 0.012\n",
            "Evaluating on completely random data:\n",
            "1/1==============================] - 0s 219ms/step - loss: 11.3795 - accuracy: 0.0100\n"
          ]
        },
        {
          "data": {
            "text/plain": [
              "[11.379500389099121, 0.0099999998]"
            ]
          },
          "execution_count": 14,
          "metadata": {
            "tags": []
          },
          "output_type": "execute_result"
        }
      ],
      "source": [
        "#@test {\"output\": \"ignore\", \"timeout\": 120}\n",
        "BATCH_SIZE = 8  # The training and eval batch size for the rest of this tutorial.\n",
        "keras_model = load_model(batch_size=BATCH_SIZE)\n",
        "\n",
        "compile(keras_model)\n",
        "\n",
        "# Confirm that loss is much lower on Shakespeare than on random data\n",
        "print('Evaluating on an example Shakespeare character:')\n",
        "keras_model.evaluate(example_dataset.take(1))\n",
        "\n",
        "# As a sanity check, we can construct some completely random data, where we expect\n",
        "# the accuracy to be essentially random:\n",
        "random_indexes = np.random.randint(\n",
        "    low=0, high=len(vocab), size=1 * BATCH_SIZE * (SEQ_LENGTH+1))\n",
        "data = {\n",
        "    'snippets':\n",
        "        tf.constant(''.join(np.array(vocab)[random_indexes]), shape=[1, 1])\n",
        "}\n",
        "random_dataset = preprocess(tf.data.Dataset.from_tensor_slices(data))\n",
        "print('Expected accuracy for random guessing: {:.3f}'.format(1.0 / len(vocab)))\n",
        "print('Evaluating on completely random data:')\n",
        "keras_model.evaluate(random_dataset)"
      ]
    },
    {
      "cell_type": "markdown",
      "metadata": {
        "colab_type": "text",
        "id": "lH0WzL5L8Lm4"
      },
      "source": [
        "# Fine-tune the model with Federated Learning"
      ]
    },
    {
      "cell_type": "markdown",
      "metadata": {
        "colab_type": "text",
        "id": "NCao4M3L_tsA"
      },
      "source": [
        "TFF serializes all TensorFlow computations so they can potentially be run in a\n",
        "non-Python environment (even though at the moment, only a simulation runtime implemented in Python is available). Even though we are running in eager mode, (TF 2.0), currently TFF serializes TensorFlow computations by constructing the\n",
        "necessary ops inside the context of a \"`with tf.Graph.as_default()`\" statement.\n",
        "Thus, we need to provide a function that TFF can use to introduce our model into\n",
        "a graph it controls. We do this as follows:"
      ]
    },
    {
      "cell_type": "code",
      "execution_count": 0,
      "metadata": {
        "colab": {},
        "colab_type": "code",
        "id": "5KadIvFp7m6y"
      },
      "outputs": [],
      "source": [
        "# We load a base model into the current eager context:\n",
        "base_keras_model = load_model(BATCH_SIZE)\n",
        "\n",
        "# And then clone that model inside `create_tff_model()`, which TFF will\n",
        "# call to produce a new copy of the model inside the graph that it will serialize.\n",
        "def create_tff_model():\n",
        "  # TFF uses a `dummy_batch` so it knows the types and shapes\n",
        "  # that your model expects.\n",
        "  x = tf.constant(np.random.randint(1, len(vocab), size=[BATCH_SIZE, SEQ_LENGTH]))\n",
        "  dummy_batch = collections.OrderedDict([('x', x), ('y', x)])  \n",
        "  keras_model = compile(tf.keras.models.clone_model(base_keras_model))\n",
        "  return tff.learning.from_compiled_keras_model(\n",
        "      keras_model, dummy_batch=dummy_batch)"
      ]
    },
    {
      "cell_type": "markdown",
      "metadata": {
        "colab_type": "text",
        "id": "ZJF_yhJxAi2l"
      },
      "source": [
        "Now we are ready to construct a Federated Averaging iterative process, which we will use to improve the model (for details on the Federated Averaging algorithm, see the paper [Communication-Efficient Learning of Deep Networks from Decentralized Data](https://arxiv.org/abs/1602.05629)).\n",
        "\n",
        "We use a compiled Keras model to perform standard (non-federated) evaluation after each round of federated training. This is useful for research purposes when doing simulated federated learning and there is a  standard test dataset. However, in a realistic production setting this same technique might be used to take models trained with federated learning and evaluate them on a standard benchmark non-private dataset for testing or quality assurance purposes."
      ]
    },
    {
      "cell_type": "code",
      "execution_count": 0,
      "metadata": {
        "colab": {},
        "colab_type": "code",
        "id": "my3PW3qhAMDA"
      },
      "outputs": [],
      "source": [
        "#@test {\"output\": \"ignore\", \"timeout\": 300}\n",
        "# This command builds all the TensorFlow graphs and serializes them: \n",
        "fed_avg = tff.learning.build_federated_averaging_process(model_fn=create_tff_model)"
      ]
    },
    {
      "cell_type": "code",
      "execution_count": 0,
      "metadata": {
        "colab": {},
        "colab_type": "code",
        "id": "wE386-rbMCve"
      },
      "outputs": [],
      "source": [
        "# So that this simulation runs relatively quickly, \n",
        "# we train on the same three clients each round, only\n",
        "# considering two minibatches for each:\n",
        "def data(client, source=train_data):\n",
        "  return preprocess(\n",
        "      source.create_tf_dataset_for_client(client)).take(2)\n",
        "\n",
        "clients = ['ALL_S_WELL_THAT_ENDS_WELL_CELIA',\n",
        "           'MUCH_ADO_ABOUT_NOTHING_OTHELLO',\n",
        "           'THE_TRAGEDY_OF_KING_LEAR_KING']\n",
        "\n",
        "train_datasets = [data(client) for client in clients]\n",
        "\n",
        "# We concatenate the test datasets for evaluation with Keras.\n",
        "test_dataset = functools.reduce(\n",
        "    lambda d1, d2: d1.concatenate(d2),\n",
        "    [data(client, test_data) for client in clients])\n",
        "\n",
        "# A keras_model to use for weight initialization and evaluation.\n",
        "keras_model = compile(load_model(BATCH_SIZE))"
      ]
    },
    {
      "cell_type": "markdown",
      "metadata": {
        "colab_type": "text",
        "id": "qVOkzs9C9kmv"
      },
      "source": [
        "Here is the simplest possible loop, where we run federated averaging for one round on a single client on a single batch:"
      ]
    },
    {
      "cell_type": "code",
      "execution_count": 18,
      "metadata": {
        "colab": {
          "height": 34
        },
        "colab_type": "code",
        "executionInfo": {
          "elapsed": 12226,
          "status": "ok",
          "timestamp": 1550363530933,
          "user": {
            "displayName": "",
            "photoUrl": "",
            "userId": ""
          },
          "user_tz": 480
        },
        "id": "lrjUrkjq9jYk",
        "outputId": "f2981017-3d45-4d7c-be02-8b5e6a1f8e2d"
      },
      "outputs": [
        {
          "name": "stdout",
          "output_type": "stream",
          "text": [
            "\u003caccuracy=0.02125,loss=4.45429\u003e\n"
          ]
        }
      ],
      "source": [
        "#@test {\"output\": \"ignore\", \"timeout\": 300}\n",
        "state = fed_avg.initialize()\n",
        "state, metrics = fed_avg.next(state, [example_dataset.take(1)])\n",
        "print(metrics)"
      ]
    },
    {
      "cell_type": "markdown",
      "metadata": {
        "colab_type": "text",
        "id": "o2CjvVg0FZpS"
      },
      "source": [
        "Now let's write a slightly more interesting training and evaluation loop.\n",
        "\n",
        "The initial state of the model produced by fed_avg.initialize() is based\n",
        "on the random initializers for the Keras model, not the weights that were loaded,\n",
        "since `clone_model()` does not clone the weights. To start training\n",
        "from a pre-trained model, we set the model weights in the server state\n",
        "directly from the loaded model."
      ]
    },
    {
      "cell_type": "code",
      "execution_count": 19,
      "metadata": {
        "colab": {
          "height": 208
        },
        "colab_type": "code",
        "executionInfo": {
          "elapsed": 142250,
          "status": "ok",
          "timestamp": 1550363673325,
          "user": {
            "displayName": "",
            "photoUrl": "",
            "userId": ""
          },
          "user_tz": 480
        },
        "id": "vm_-PU8OFXpY",
        "outputId": "b4b219d0-ffa0-4175-e2e4-d5b4d8a2e201"
      },
      "outputs": [
        {
          "name": "stdout",
          "output_type": "stream",
          "text": [
            "Evaluating before training round 0\n",
            "14/14==============================] - 3s 230ms/step - loss: 3.2983 - accuracy: 0.4028\n",
            "Training metrics: \u003caccuracy=0.428958,loss=3.11982\u003e\n",
            "Evaluating before training round 1\n",
            "14/14==============================] - 3s 224ms/step - loss: 2.9865 - accuracy: 0.4256\n",
            "Training metrics: \u003caccuracy=0.531458,loss=2.20371\u003e\n",
            "Evaluating before training round 2\n",
            "14/14==============================] - 3s 227ms/step - loss: 2.8588 - accuracy: 0.4348\n",
            "Training metrics: \u003caccuracy=0.628958,loss=1.64126\u003e\n",
            "Evaluating before training round 4\n",
            "14/14==============================] - 3s 228ms/step - loss: 2.7667 - accuracy: 0.4526\n"
          ]
        }
      ],
      "source": [
        "#@test {\"skip\": true}\n",
        "NUM_ROUNDS = 3\n",
        "\n",
        "# The state of the FL server, containing the model and optimization state.\n",
        "state = fed_avg.initialize()\n",
        "\n",
        "state = tff.learning.state_with_new_model_weights(\n",
        "    state,\n",
        "    trainable_weights=[v.numpy() for v in keras_model.trainable_weights],\n",
        "    non_trainable_weights=[\n",
        "        v.numpy() for v in keras_model.non_trainable_weights\n",
        "    ])\n",
        "\n",
        "\n",
        "def keras_evaluate(state, round_num):\n",
        "  keras_model.set_weights(\n",
        "      tff.learning.keras_weights_from_tff_weights(state.model))\n",
        "  print('Evaluating before training round', round_num)\n",
        "  keras_model.evaluate(example_dataset)\n",
        "\n",
        "\n",
        "for round_num in range(NUM_ROUNDS):\n",
        "  keras_evaluate(state, round_num)\n",
        "  # N.B. The TFF runtime is currently fairly slow,\n",
        "  # expect this to get significantly faster in future releases.\n",
        "  state, metrics = fed_avg.next(state, train_datasets)\n",
        "  print('Training metrics:', metrics)\n",
        "\n",
        "keras_evaluate(state, NUM_ROUNDS + 1)"
      ]
    },
    {
      "cell_type": "markdown",
      "metadata": {
        "colab_type": "text",
        "id": "SoshvcHhXVa6"
      },
      "source": [
        "With the default changes, we haven't done enough training to make a big difference, but if you train longer on more Shakespeare data, you should see a difference in tehe style of the text generated with the updated model:"
      ]
    },
    {
      "cell_type": "code",
      "execution_count": 20,
      "metadata": {
        "colab": {
          "height": 124
        },
        "colab_type": "code",
        "executionInfo": {
          "elapsed": 2794,
          "status": "ok",
          "timestamp": 1550363676145,
          "user": {
            "displayName": "",
            "photoUrl": "",
            "userId": ""
          },
          "user_tz": 480
        },
        "id": "NTUig7QmXavy",
        "outputId": "de05010f-329a-4ead-cd9e-75e28974ca4a"
      },
      "outputs": [
        {
          "name": "stdout",
          "output_type": "stream",
          "text": [
            "What of TensorFlow Federated, you ask? Say which way I took this causes of scarck wigure over their safety with this; they are not in seprete\r\n",
            "over their seat.\n",
            "And beckoned that they spoke of his own.U'A\r\n",
            "\r\n",
            "What proofficers would began, th\n"
          ]
        }
      ],
      "source": [
        "#@test {\"output\": \"ignore\", \"timeout\": 300}\n",
        "batch_one_model = load_model(batch_size=1)\n",
        "batch_one_model.set_weights([v.numpy() for v in keras_model.weights])\n",
        "# Text generation requires batch_size=1\n",
        "print(generate_text(batch_one_model, 'What of TensorFlow Federated, you ask? '))"
      ]
    },
    {
      "cell_type": "markdown",
      "metadata": {
        "colab_type": "text",
        "id": "4DA1Fkf5mN0s"
      },
      "source": [
        "# Suggested extensions\n",
        "\n",
        "This tutorial is just the first step! Here are some ideas for how you might try extending this notebook:\n",
        "  * Write a more realistic training loop where you sample clients to train on randomly.\n",
        "  * Use \"`.repeat(NUM_EPOCHS)`\" on the client datasets to try multiple epochs of local training (e.g., as in [McMahan et. al.](https://arxiv.org/abs/1602.05629)). See also [Federated Learning for Image Classification](federated_learning_for_image_classification.md) which does this.\n",
        "  * Change the `compile()` command to experiment with using different optimization algorithms on the client.\n",
        "  * Try the `server_optimizer` argument to `build_federated_averaging_process` to try different algorithms for applying the model updates on the server.\n",
        "  * Try the `client_weight_fn` argument to to `build_federated_averaging_process` to try different weightings of the clients. The default weights client updates by the number of examples on the client, but you can do e.g. `client_weight_fn=lambda _: tf.constant(1.0)`."
      ]
    }
  ],
  "metadata": {
    "colab": {
      "collapsed_sections": [],
      "last_runtime": {
        "build_target": "",
        "kind": "local"
      },
      "name": "Federated Learning for Text Generation",
      "provenance": [
        {
          "file_id": "1H0UAX4si3f9igucGfmmH6-l2nDWJo6Se",
          "timestamp": 1547760001921
        }
      ],
      "toc_visible": true,
      "version": "0.3.2"
    },
    "kernelspec": {
      "display_name": "Python 2",
      "name": "python2"
    }
  },
  "nbformat": 4,
  "nbformat_minor": 0
}
